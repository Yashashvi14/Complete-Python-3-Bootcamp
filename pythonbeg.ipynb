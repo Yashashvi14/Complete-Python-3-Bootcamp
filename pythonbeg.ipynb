{
  "cells": [
    {
      "cell_type": "markdown",
      "metadata": {
        "id": "view-in-github",
        "colab_type": "text"
      },
      "source": [
        "<a href=\"https://colab.research.google.com/github/Yashashvi14/Complete-Python-3-Bootcamp/blob/master/pythonbeg.ipynb\" target=\"_parent\"><img src=\"https://colab.research.google.com/assets/colab-badge.svg\" alt=\"Open In Colab\"/></a>"
      ]
    },
    {
      "cell_type": "code",
      "execution_count": null,
      "metadata": {
        "colab": {
          "base_uri": "https://localhost:8080/"
        },
        "id": "PoxubBM9WBeD",
        "outputId": "31e64b35-526f-447f-d616-5734c8ad05f8"
      },
      "outputs": [
        {
          "data": {
            "text/plain": [
              "10"
            ]
          },
          "execution_count": 31,
          "metadata": {},
          "output_type": "execute_result"
        }
      ],
      "source": [
        "a = 10\n",
        "a\n"
      ]
    },
    {
      "cell_type": "markdown",
      "metadata": {
        "id": "UcApXxp1NTvj"
      },
      "source": []
    },
    {
      "cell_type": "code",
      "execution_count": null,
      "metadata": {
        "colab": {
          "base_uri": "https://localhost:8080/"
        },
        "id": "UN4nXMSrQMY9",
        "outputId": "7bf34301-08bc-45a3-8285-401189aa173a"
      },
      "outputs": [
        {
          "data": {
            "text/plain": [
              "20"
            ]
          },
          "execution_count": 32,
          "metadata": {},
          "output_type": "execute_result"
        }
      ],
      "source": [
        "a = a+a\n",
        "a"
      ]
    },
    {
      "cell_type": "code",
      "execution_count": null,
      "metadata": {
        "colab": {
          "base_uri": "https://localhost:8080/"
        },
        "id": "l7X7SATzQpOn",
        "outputId": "54d8e9b1-9a1e-4cbf-d5ff-45d9041b3341"
      },
      "outputs": [
        {
          "data": {
            "text/plain": [
              "int"
            ]
          },
          "execution_count": 33,
          "metadata": {},
          "output_type": "execute_result"
        }
      ],
      "source": [
        "type(a)"
      ]
    },
    {
      "cell_type": "code",
      "execution_count": null,
      "metadata": {
        "colab": {
          "base_uri": "https://localhost:8080/",
          "height": 35
        },
        "id": "q53ZwKN-hrut",
        "outputId": "54c8c258-f615-46a7-98a3-38918925bc22"
      },
      "outputs": [
        {
          "data": {
            "application/vnd.google.colaboratory.intrinsic+json": {
              "type": "string"
            },
            "text/plain": [
              "'abcdefg'"
            ]
          },
          "execution_count": 34,
          "metadata": {},
          "output_type": "execute_result"
        }
      ],
      "source": [
        "mystring = \"abcdefg\"\n",
        "mystring"
      ]
    },
    {
      "cell_type": "code",
      "execution_count": null,
      "metadata": {
        "colab": {
          "base_uri": "https://localhost:8080/"
        },
        "id": "UyfLVzYEh1dU",
        "outputId": "28275f0e-2c00-4f6b-f3a9-d92a16067c05"
      },
      "outputs": [
        {
          "name": "stdout",
          "output_type": "stream",
          "text": [
            "cdef\n",
            "defg\n"
          ]
        }
      ],
      "source": [
        "print(mystring[2:6])\n",
        "print(mystring[3:])"
      ]
    },
    {
      "cell_type": "code",
      "execution_count": null,
      "metadata": {
        "colab": {
          "base_uri": "https://localhost:8080/",
          "height": 35
        },
        "id": "8EjN6eb2Nb-D",
        "outputId": "d7692a31-8c08-4650-dbba-1d72549307cd"
      },
      "outputs": [
        {
          "data": {
            "application/vnd.google.colaboratory.intrinsic+json": {
              "type": "string"
            },
            "text/plain": [
              "'Hello World it is beatiful!'"
            ]
          },
          "execution_count": 36,
          "metadata": {},
          "output_type": "execute_result"
        }
      ],
      "source": [
        "x = 'Hello World'\n",
        "x + \" it is beatiful!\""
      ]
    },
    {
      "cell_type": "code",
      "execution_count": null,
      "metadata": {
        "colab": {
          "base_uri": "https://localhost:8080/"
        },
        "id": "fog-Wlg1Ovr-",
        "outputId": "5b38aa5c-d5bc-40bb-d1ea-2ea2130e1fd6"
      },
      "outputs": [
        {
          "data": {
            "text/plain": [
              "['', 't ', 's beaut', 'ful outs', 'de']"
            ]
          },
          "execution_count": 37,
          "metadata": {},
          "output_type": "execute_result"
        }
      ],
      "source": [
        "x = 'it is beautiful outside'\n",
        "x.split('i')"
      ]
    },
    {
      "cell_type": "code",
      "execution_count": null,
      "metadata": {
        "colab": {
          "base_uri": "https://localhost:8080/"
        },
        "id": "OcE1L7Z1R6A-",
        "outputId": "f65f6d1f-4be5-47ba-e931-533c939c04ad"
      },
      "outputs": [
        {
          "name": "stdout",
          "output_type": "stream",
          "text": [
            "I am Yashi Yadav\n"
          ]
        }
      ],
      "source": [
        "print('I am Yashi{}'.format(' Yadav'))"
      ]
    },
    {
      "cell_type": "code",
      "execution_count": null,
      "metadata": {
        "colab": {
          "base_uri": "https://localhost:8080/"
        },
        "id": "YY42bsfyTBAV",
        "outputId": "0cc033fa-2125-4bb1-d946-40fe798febdd"
      },
      "outputs": [
        {
          "name": "stdout",
          "output_type": "stream",
          "text": [
            "The fox brown quick\n"
          ]
        }
      ],
      "source": [
        "print('The {} {} {}'.format('fox', 'brown','quick'))"
      ]
    },
    {
      "cell_type": "code",
      "execution_count": null,
      "metadata": {
        "colab": {
          "base_uri": "https://localhost:8080/",
          "height": 105
        },
        "id": "H9Z-ru4YDOWs",
        "outputId": "b6bff778-359e-45ff-c46c-5a73b4785098"
      },
      "outputs": [
        {
          "name": "stdout",
          "output_type": "stream",
          "text": [
            "{'apple': 50, 'banana': 20, 'guava': 30}\n",
            "50\n",
            "{'k1': 123, 'k2': [1, 2, 3], 'k3': {'yashi': 'parul'}}\n",
            "[1, 2, 3]\n"
          ]
        },
        {
          "data": {
            "application/vnd.google.colaboratory.intrinsic+json": {
              "type": "string"
            },
            "text/plain": [
              "'PARUL'"
            ]
          },
          "execution_count": 40,
          "metadata": {},
          "output_type": "execute_result"
        }
      ],
      "source": [
        "my_dict = {'apple':50 , 'banana':20 ,'guava': 30}\n",
        "print(my_dict)\n",
        "print(my_dict['apple'])\n",
        "\n",
        "new_dict = {'k1':123 ,'k2':[1,2,3] ,'k3':{'yashi':'parul'}}\n",
        "print(new_dict)\n",
        "print(new_dict['k2'])\n",
        "new_dict['k3']['yashi'].upper()\n"
      ]
    },
    {
      "cell_type": "code",
      "execution_count": null,
      "metadata": {
        "id": "ZyitT_sOHh0m"
      },
      "outputs": [],
      "source": [
        "mylist ={'k1':['a','b','c'] ,'k2':('Missippie') , 'k3': ['gsh' , 'dhg', 'hrn']}"
      ]
    },
    {
      "cell_type": "code",
      "execution_count": null,
      "metadata": {
        "colab": {
          "base_uri": "https://localhost:8080/",
          "height": 35
        },
        "id": "8AFkf23kIFjm",
        "outputId": "c98dbed5-11fb-47cf-8647-b635ae7cafe2"
      },
      "outputs": [
        {
          "data": {
            "application/vnd.google.colaboratory.intrinsic+json": {
              "type": "string"
            },
            "text/plain": [
              "'B'"
            ]
          },
          "execution_count": 42,
          "metadata": {},
          "output_type": "execute_result"
        }
      ],
      "source": [
        "mylist\n",
        "mylist['k1'][1].upper()\n"
      ]
    },
    {
      "cell_type": "code",
      "execution_count": null,
      "metadata": {
        "id": "1Y4LshivIvAM"
      },
      "outputs": [],
      "source": [
        "abc = {'ki':'a' , 'k2':'b' ,'k3':'c'}        #add new key\n",
        "abc['k4'] = 'd'"
      ]
    },
    {
      "cell_type": "code",
      "execution_count": null,
      "metadata": {
        "colab": {
          "base_uri": "https://localhost:8080/"
        },
        "id": "V6WihqItJFGN",
        "outputId": "e2a2c4c6-f41e-44e3-d7a4-b12ab2c0f9b7"
      },
      "outputs": [
        {
          "name": "stdout",
          "output_type": "stream",
          "text": [
            "dict_values(['a', 'b', 'c', 'd'])\n"
          ]
        },
        {
          "data": {
            "text/plain": [
              "dict_items([('ki', 'a'), ('k2', 'b'), ('k3', 'c'), ('k4', 'd')])"
            ]
          },
          "execution_count": 44,
          "metadata": {},
          "output_type": "execute_result"
        }
      ],
      "source": [
        "abc\n",
        "print(abc.values()) \n",
        "\n",
        "abc.items()\n"
      ]
    },
    {
      "cell_type": "code",
      "execution_count": null,
      "metadata": {
        "colab": {
          "base_uri": "https://localhost:8080/"
        },
        "id": "vjore2jhkxCm",
        "outputId": "adabe282-b140-49d6-8871-af4cebff9d52"
      },
      "outputs": [
        {
          "name": "stdout",
          "output_type": "stream",
          "text": [
            "Writing myfile.txt\n"
          ]
        }
      ],
      "source": [
        "%%writefile myfile.txt\n",
        "I am yashashvi Yadav\n",
        "i am learning python \n",
        "i also know java and SQL"
      ]
    },
    {
      "cell_type": "code",
      "execution_count": null,
      "metadata": {
        "id": "5VR6zIaPlSt1"
      },
      "outputs": [],
      "source": [
        "myfile = open('myfile.txt')         #write in quotes"
      ]
    },
    {
      "cell_type": "code",
      "execution_count": null,
      "metadata": {
        "colab": {
          "base_uri": "https://localhost:8080/"
        },
        "id": "zpZEK8lXwz5I",
        "outputId": "0db6d99c-f259-4c58-eae9-be5ba90a828a"
      },
      "outputs": [
        {
          "data": {
            "text/plain": [
              "0"
            ]
          },
          "execution_count": 47,
          "metadata": {},
          "output_type": "execute_result"
        }
      ],
      "source": [
        "myfile.seek(0)"
      ]
    },
    {
      "cell_type": "code",
      "execution_count": null,
      "metadata": {
        "colab": {
          "base_uri": "https://localhost:8080/"
        },
        "id": "l4rRsMX4-xxM",
        "outputId": "fd958eab-28a0-4a17-f1c1-c5edba17cb75"
      },
      "outputs": [
        {
          "data": {
            "text/plain": [
              "['I am yashashvi Yadav\\n',\n",
              " 'i am learning python \\n',\n",
              " 'i also know java and SQL\\n']"
            ]
          },
          "execution_count": 48,
          "metadata": {},
          "output_type": "execute_result"
        }
      ],
      "source": [
        "myfile.readlines()"
      ]
    },
    {
      "cell_type": "code",
      "execution_count": null,
      "metadata": {
        "id": "JdPzLLXi9sEx"
      },
      "outputs": [],
      "source": [
        "with open('myfile.txt' ,mode='a') as f:\n",
        "  f.write('\\nthe end')\n",
        "\n"
      ]
    },
    {
      "cell_type": "code",
      "execution_count": null,
      "metadata": {
        "colab": {
          "base_uri": "https://localhost:8080/"
        },
        "id": "FN_PTLXQ-Tgp",
        "outputId": "ec63b7a4-6a4c-42c2-e8d3-6afd2bac193e"
      },
      "outputs": [
        {
          "name": "stdout",
          "output_type": "stream",
          "text": [
            "I am yashashvi Yadav\n",
            "i am learning python \n",
            "i also know java and SQL\n",
            "\n",
            "the end\n"
          ]
        }
      ],
      "source": [
        "with open('myfile.txt' ,mode='r') as f:\n",
        "  print(f.read())\n"
      ]
    },
    {
      "cell_type": "code",
      "execution_count": null,
      "metadata": {
        "colab": {
          "base_uri": "https://localhost:8080/"
        },
        "id": "AZYMh5_T2SaZ",
        "outputId": "6b47be3b-ba60-4129-afe9-8181cf097592"
      },
      "outputs": [
        {
          "name": "stdout",
          "output_type": "stream",
          "text": [
            "[0, 0, 0]\n"
          ]
        }
      ],
      "source": [
        "lists =[0] *3\n",
        "print(lists)"
      ]
    },
    {
      "cell_type": "code",
      "execution_count": null,
      "metadata": {
        "colab": {
          "base_uri": "https://localhost:8080/"
        },
        "id": "8M2DzKUo86zz",
        "outputId": "31b56ee9-9c10-41b0-d20c-81cdc66cb2c4"
      },
      "outputs": [
        {
          "name": "stdout",
          "output_type": "stream",
          "text": [
            "hello\n"
          ]
        }
      ],
      "source": [
        "#nested dictionary\n",
        "\n",
        "d ={'k1':[{'nest_key':['this is deep' , ['hello']]}]}\n",
        "print(d['k1'][0]['nest_key'][1][0])                             #select k1 then 0th elemnt of k1 ; then nest key and its 1st elemt hello then hello is only elemnt so [0]"
      ]
    },
    {
      "cell_type": "code",
      "execution_count": null,
      "metadata": {
        "colab": {
          "base_uri": "https://localhost:8080/"
        },
        "id": "luBHuZg-BWUq",
        "outputId": "12478c47-cd58-4ce1-9fb4-b4679994eb62"
      },
      "outputs": [
        {
          "name": "stdout",
          "output_type": "stream",
          "text": [
            "yeah, thats right\n"
          ]
        }
      ],
      "source": [
        "name = 'yashi'    #else\n",
        "\n",
        "if name =='parul':\n",
        "  print('i am home')\n",
        "elif name =='yashashvi':\n",
        "  print('i am in noida')  \n",
        "elif name =='yashi':\n",
        "  print('yeah, thats right')\n",
        "else:\n",
        "  print('babu pagal')    "
      ]
    },
    {
      "cell_type": "code",
      "execution_count": null,
      "metadata": {
        "colab": {
          "base_uri": "https://localhost:8080/"
        },
        "id": "RnCUpGpZlJCU",
        "outputId": "a80b4224-2981-46eb-fe4e-06044c38e2e0"
      },
      "outputs": [
        {
          "name": "stdout",
          "output_type": "stream",
          "text": [
            "[1, 2, 3, 4, 5, 6, 7, 8, 9, 10]\n",
            "1\n",
            "2\n",
            "3\n",
            "4\n",
            "5\n",
            "6\n",
            "7\n",
            "8\n",
            "9\n",
            "10\n"
          ]
        }
      ],
      "source": [
        "mylist =[1,2,3,4,5,6,7,8,9,10]\n",
        "print(mylist)\n",
        "\n",
        "for num in mylist:\n",
        "  print(num)"
      ]
    },
    {
      "cell_type": "code",
      "execution_count": null,
      "metadata": {
        "colab": {
          "base_uri": "https://localhost:8080/"
        },
        "id": "uCLwhhmkoYDu",
        "outputId": "dffa7ed5-dd1d-4ec2-f4ed-6f554d9b604a"
      },
      "outputs": [
        {
          "name": "stdout",
          "output_type": "stream",
          "text": [
            "H\n",
            "e\n",
            "l\n",
            "l\n",
            "o\n",
            " \n",
            "W\n",
            "o\n",
            "r\n",
            "l\n",
            "d\n"
          ]
        }
      ],
      "source": [
        "for letter in 'Hello World':            #iteration\n",
        "  print(letter)"
      ]
    },
    {
      "cell_type": "code",
      "execution_count": null,
      "metadata": {
        "colab": {
          "base_uri": "https://localhost:8080/"
        },
        "id": "evcUqlhWK1P9",
        "outputId": "b4410f6d-b42c-4918-eb28-c44dd5ecb07b"
      },
      "outputs": [
        {
          "name": "stdout",
          "output_type": "stream",
          "text": [
            "1\n",
            "2\n",
            "3\n"
          ]
        }
      ],
      "source": [
        "tup = (1,2,3)\n",
        "for a in tup:\n",
        "  print(a)"
      ]
    },
    {
      "cell_type": "code",
      "execution_count": null,
      "metadata": {
        "colab": {
          "base_uri": "https://localhost:8080/"
        },
        "id": "s99TZdH_MOET",
        "outputId": "34fa8917-8c4a-4d91-9d55-52646fb18f0a"
      },
      "outputs": [
        {
          "name": "stdout",
          "output_type": "stream",
          "text": [
            "1\n",
            "2\n",
            "3\n",
            "4\n"
          ]
        }
      ],
      "source": [
        "mylist = [(1,2),(3,4)]                #list with tuple # tuple unpacking\n",
        "for (a,b) in mylist:                  #print each item separtely #parathesis is optional\n",
        "  print(a)\n",
        "  print(b)"
      ]
    },
    {
      "cell_type": "code",
      "execution_count": null,
      "metadata": {
        "colab": {
          "base_uri": "https://localhost:8080/"
        },
        "id": "mqtO_fu3NK9c",
        "outputId": "5d3abed9-81e6-4d45-cff5-d8c9f27a4f1a"
      },
      "outputs": [
        {
          "name": "stdout",
          "output_type": "stream",
          "text": [
            "k1\n",
            "k2\n",
            "k3\n"
          ]
        }
      ],
      "source": [
        "#by default in ditionary it prints keys\n",
        "abc = {'k1':1 , 'k2':2 , 'k3':3}\n",
        "for item in abc:\n",
        "  print(item)\n",
        "\n",
        "\n",
        "  "
      ]
    },
    {
      "cell_type": "code",
      "execution_count": null,
      "metadata": {
        "colab": {
          "base_uri": "https://localhost:8080/"
        },
        "id": "25K-of9bOeEw",
        "outputId": "0bb1bed3-a01e-4fe8-e2e9-ba2496f01a0a"
      },
      "outputs": [
        {
          "name": "stdout",
          "output_type": "stream",
          "text": [
            "1\n",
            "2\n",
            "3\n"
          ]
        }
      ],
      "source": [
        "abc = {'k1':1 , 'k2':2 , 'k3':3}     #so call the items to get it printed\n",
        "for key,value in abc.items():\n",
        "    print(value)"
      ]
    },
    {
      "cell_type": "code",
      "execution_count": null,
      "metadata": {
        "colab": {
          "base_uri": "https://localhost:8080/"
        },
        "id": "BC8fH5wiNyuk",
        "outputId": "14895817-8c20-459a-a2fa-3ed8632866dc"
      },
      "outputs": [
        {
          "name": "stdout",
          "output_type": "stream",
          "text": [
            "('k1', 1)\n",
            "('k2', 2)\n",
            "('k3', 3)\n"
          ]
        }
      ],
      "source": [
        "abc = {'k1':1 , 'k2':2 , 'k3':3}     #so call the items to get it printed\n",
        "for item in abc.items():\n",
        "    print(item)"
      ]
    },
    {
      "cell_type": "code",
      "execution_count": null,
      "metadata": {
        "colab": {
          "base_uri": "https://localhost:8080/"
        },
        "id": "w5qYwm04oShs",
        "outputId": "29831104-b531-407d-bf25-fa83c486b9d1"
      },
      "outputs": [
        {
          "name": "stdout",
          "output_type": "stream",
          "text": [
            "the value of x is 1\n",
            "the value of x is 2\n",
            "the value of x is 3\n",
            "the value of x is 4\n"
          ]
        }
      ],
      "source": [
        "#while loop \n",
        "\n",
        "x=1 \n",
        "while x<5:\n",
        "  print(f'the value of x is {x}')\n",
        "  x=x+1"
      ]
    },
    {
      "cell_type": "code",
      "execution_count": null,
      "metadata": {
        "colab": {
          "base_uri": "https://localhost:8080/"
        },
        "id": "Uc_gH2yXrF5J",
        "outputId": "4e77efc3-f30f-42d2-9986-9b61c019931c"
      },
      "outputs": [
        {
          "name": "stdout",
          "output_type": "stream",
          "text": [
            "the value of x is 1\n",
            "the value of x is 2\n",
            "the value of x is 3\n",
            "the value of x is 4\n",
            "x is not less than 5\n"
          ]
        }
      ],
      "source": [
        "x=1 \n",
        "while x<5:\n",
        "  print(f'the value of x is {x}')\n",
        "  x=x+1\n",
        "else :\n",
        "    print(\"x is not less than 5\")"
      ]
    },
    {
      "cell_type": "code",
      "execution_count": null,
      "metadata": {
        "colab": {
          "base_uri": "https://localhost:8080/"
        },
        "id": "AcacTgp7LjJV",
        "outputId": "8a081594-5c30-4150-f348-99ba29c065f5"
      },
      "outputs": [
        {
          "name": "stdout",
          "output_type": "stream",
          "text": [
            "k1 123\n",
            "k2 [1, 2, 3]\n",
            "k3 {'yashi': 'parul'}\n"
          ]
        }
      ],
      "source": [
        "dict = {'k1':123 ,'k2':[1,2,3] ,'k3':{'yashi':'parul'}}\n",
        "for key,value in dict.items():\n",
        "    print(key, value)\n",
        "   \n",
        "    \n",
        "   "
      ]
    },
    {
      "cell_type": "code",
      "execution_count": null,
      "metadata": {
        "id": "QhOntK8cTPjc"
      },
      "outputs": [],
      "source": [
        "val =(1,2,3)\n",
        "for new in val:\n",
        "  pass"
      ]
    },
    {
      "cell_type": "code",
      "execution_count": null,
      "metadata": {
        "colab": {
          "base_uri": "https://localhost:8080/"
        },
        "id": "5gTf2cWsUAe8",
        "outputId": "a83fd054-6574-41ab-8162-f804075773fd"
      },
      "outputs": [
        {
          "name": "stdout",
          "output_type": "stream",
          "text": [
            "H\n",
            "e\n",
            "l\n",
            "l\n",
            "o\n",
            "W\n",
            "o\n",
            "r\n",
            "l\n",
            "d\n"
          ]
        }
      ],
      "source": [
        "myval = 'Hello World'\n",
        "for new in myval:\n",
        "  if new == ' ':     #skip the letter or space or anytthing\n",
        "     continue\n",
        "\n",
        "  print(new) "
      ]
    },
    {
      "cell_type": "code",
      "execution_count": null,
      "metadata": {
        "colab": {
          "base_uri": "https://localhost:8080/"
        },
        "id": "8xb5f56HVFnJ",
        "outputId": "d0ad4060-63c5-4789-8c75-192e2fc22732"
      },
      "outputs": [
        {
          "name": "stdout",
          "output_type": "stream",
          "text": [
            "H\n",
            "e\n",
            "l\n",
            "l\n",
            "o\n",
            " \n"
          ]
        }
      ],
      "source": [
        "myval = 'Hello World'\n",
        "for new in myval:\n",
        "  if new == 'W':     #skip the letter or space or anytthing\n",
        "     break\n",
        "\n",
        "  print(new) "
      ]
    },
    {
      "cell_type": "code",
      "execution_count": null,
      "metadata": {
        "colab": {
          "base_uri": "https://localhost:8080/"
        },
        "id": "AwG3q22GWQmU",
        "outputId": "cc904e65-6c4e-4258-d811-5723eb96f8f0"
      },
      "outputs": [
        {
          "name": "stdout",
          "output_type": "stream",
          "text": [
            "0\n",
            "1\n",
            "2\n",
            "3\n",
            "4\n",
            "5\n",
            "6\n",
            "7\n",
            "8\n",
            "9\n",
            "11\n",
            "12\n",
            "13\n",
            "14\n",
            "0\n",
            "2\n",
            "4\n",
            "6\n",
            "8\n"
          ]
        }
      ],
      "source": [
        "#operators \n",
        "for num in range(10):      #upto excluding 10\n",
        "  print(num)\n",
        "\n",
        "for um in range(11,15):  #range\n",
        "  print( um)\n",
        "\n",
        "for umw in range(0,10,2):    #prints even no. between 0-10\n",
        "  print( umw)"
      ]
    },
    {
      "cell_type": "code",
      "execution_count": null,
      "metadata": {
        "colab": {
          "base_uri": "https://localhost:8080/"
        },
        "id": "zE82oZ1cXUJC",
        "outputId": "e4bf044f-881a-4426-f7ae-22ecfe3d887f"
      },
      "outputs": [
        {
          "name": "stdout",
          "output_type": "stream",
          "text": [
            "k1 \n",
            " ['a', 'b', 'c']\n",
            "k2 \n",
            " Missippie\n",
            "k3 \n",
            " ['gsh', 'dhg', 'hrn']\n"
          ]
        }
      ],
      "source": [
        "d ={'k1':['a','b','c'] ,'k2':('Missippie') , 'k3': ['gsh' , 'dhg', 'hrn']}        #dict with for loop\n",
        "for key,value in d.items():\n",
        " print(key,'\\n' ,value)\n",
        " \n",
        "               "
      ]
    },
    {
      "cell_type": "code",
      "execution_count": null,
      "metadata": {
        "colab": {
          "base_uri": "https://localhost:8080/"
        },
        "id": "_wIIVYQccccd",
        "outputId": "df5a2ec4-0285-49f4-f155-ea5ce81d44b3"
      },
      "outputs": [
        {
          "name": "stdout",
          "output_type": "stream",
          "text": [
            "at index 0 the letter is a\n",
            "at index 1 the letter is b\n",
            "at index 2 the letter is c\n",
            "at index 3 the letter is d\n",
            "at index 4 the letter is e\n",
            "at index 5 the letter is f\n"
          ]
        }
      ],
      "source": [
        "index_count = 0         #foe with print formatting\n",
        "for letter in 'abcdef':\n",
        "  print('at index {} the letter is {}'.format(index_count,letter))\n",
        "  index_count +=1\n"
      ]
    },
    {
      "cell_type": "code",
      "execution_count": null,
      "metadata": {
        "colab": {
          "base_uri": "https://localhost:8080/"
        },
        "id": "S_gPgF1cdZzw",
        "outputId": "784de0a5-fd8c-4342-dddc-c1de2c43be63"
      },
      "outputs": [
        {
          "data": {
            "text/plain": [
              "True"
            ]
          },
          "execution_count": 70,
          "metadata": {},
          "output_type": "execute_result"
        }
      ],
      "source": [
        "d = {'mykey':345}\n",
        "345 in d.values()"
      ]
    },
    {
      "cell_type": "code",
      "execution_count": null,
      "metadata": {
        "colab": {
          "base_uri": "https://localhost:8080/"
        },
        "id": "X0zvA3Z2Be66",
        "outputId": "2071a7e9-2ebd-4aad-b075-1e4d83f31cb4"
      },
      "outputs": [
        {
          "name": "stdout",
          "output_type": "stream",
          "text": [
            "[6, 8, 10, 3, 7, 5, 1, 9, 2, 4]\n"
          ]
        }
      ],
      "source": [
        "from random import shuffle \n",
        "mylist = [1,2,3,4,5,6,7,8,9,10]\n",
        "shuffle(mylist)\n",
        "print(mylist)"
      ]
    },
    {
      "cell_type": "code",
      "execution_count": null,
      "metadata": {
        "colab": {
          "base_uri": "https://localhost:8080/"
        },
        "id": "KOw4o1XqlHYv",
        "outputId": "cee4a0eb-a9f4-4a32-ddb9-f1a7cb4d5d6d"
      },
      "outputs": [
        {
          "name": "stdout",
          "output_type": "stream",
          "text": [
            "['H']\n",
            "['H', 'e']\n",
            "['H', 'e', 'l']\n",
            "['H', 'e', 'l', 'l']\n",
            "['H', 'e', 'l', 'l', 'o']\n",
            "['H', 'e', 'l', 'l', 'o']\n"
          ]
        }
      ],
      "source": [
        "mystring = 'Hello'\n",
        "mylist = []\n",
        "for letter in mystring :\n",
        "  mylist.append(letter)\n",
        "  print(mylist)         #prints in pattern bz inside loop\n",
        "\n",
        "print(mylist)    #primnts only one line bz outside loop \n",
        "\n",
        "  "
      ]
    },
    {
      "cell_type": "code",
      "execution_count": null,
      "metadata": {
        "colab": {
          "base_uri": "https://localhost:8080/"
        },
        "id": "cSR-Jcs_tICt",
        "outputId": "8fb177d9-03cd-43c1-a534-599ea81822f0"
      },
      "outputs": [
        {
          "name": "stdout",
          "output_type": "stream",
          "text": [
            "['H', 'e', 'l', 'l', 'o']\n"
          ]
        }
      ],
      "source": [
        "mylist =[letter for letter in mystring]         #list comprehension to shorten syntax\n",
        "print(mylist)"
      ]
    },
    {
      "cell_type": "code",
      "execution_count": null,
      "metadata": {
        "colab": {
          "base_uri": "https://localhost:8080/"
        },
        "id": "wDHYNLJlyKIj",
        "outputId": "d2cc8f43-67b0-487e-8f90-18f279740c19"
      },
      "outputs": [
        {
          "name": "stdout",
          "output_type": "stream",
          "text": [
            "[32.0, 68.0, 122.0, 208.4, 216.5]\n"
          ]
        }
      ],
      "source": [
        "celcius = [0,20,50,98,102.5]\n",
        "\n",
        "fahrenhiet = [((9/5)*temp + 32) for temp in celcius]\n",
        "print(fahrenhiet )"
      ]
    },
    {
      "cell_type": "code",
      "execution_count": null,
      "metadata": {
        "colab": {
          "base_uri": "https://localhost:8080/"
        },
        "id": "vSCYuLJoTA9D",
        "outputId": "75fcc905-dff3-422e-d76f-b573044802a4"
      },
      "outputs": [
        {
          "name": "stdout",
          "output_type": "stream",
          "text": [
            "Sam\n",
            "sentences\n",
            "starts\n",
            "s\n"
          ]
        }
      ],
      "source": [
        "str = 'Sam print only those sentences that starts with s'\n",
        "for word in str.split():\n",
        "  if word[0].lower() == 's':     #use lower case to print all the words that starts with s even upper caze also\n",
        "    print(word)\n"
      ]
    },
    {
      "cell_type": "code",
      "execution_count": null,
      "metadata": {
        "colab": {
          "base_uri": "https://localhost:8080/"
        },
        "id": "jJyeZJgYUj6j",
        "outputId": "8f1d7b40-33a1-4e91-b54b-c4adeef76d51"
      },
      "outputs": [
        {
          "name": "stdout",
          "output_type": "stream",
          "text": [
            "[0, 3, 6, 9, 12, 15, 18, 21, 24, 27, 30, 33, 36, 39, 42, 45, 48]\n"
          ]
        }
      ],
      "source": [
        "mylist = [x for x in range(0,51) if x%3 == 0]\n",
        "print(mylist)"
      ]
    },
    {
      "cell_type": "code",
      "execution_count": null,
      "metadata": {
        "colab": {
          "base_uri": "https://localhost:8080/"
        },
        "id": "0pAIcXfTX_sz",
        "outputId": "ce4e81c4-b5c7-4d16-f778-9375ba023c7c"
      },
      "outputs": [
        {
          "name": "stdout",
          "output_type": "stream",
          "text": [
            "word\n",
            "in\n",
            "this\n",
            "sentence\n",
            "that\n",
            "an\n",
            "even\n",
            "number\n",
            "of\n"
          ]
        }
      ],
      "source": [
        "st = 'print every word in this sentence   that has an even number of letters'\n",
        "for word in st.split():\n",
        "  if len(word)%2 == 0:\n",
        "     print(word) "
      ]
    },
    {
      "cell_type": "code",
      "execution_count": null,
      "metadata": {
        "colab": {
          "base_uri": "https://localhost:8080/"
        },
        "id": "U0NoS9K4ZQXk",
        "outputId": "f382d1fc-3a1c-4d5b-f08c-71ac6dc935ec"
      },
      "outputs": [
        {
          "name": "stdout",
          "output_type": "stream",
          "text": [
            "fizzbuzz\n",
            "1\n",
            "2\n",
            "fizz\n",
            "4\n",
            "buzz\n",
            "fizz\n",
            "7\n",
            "8\n",
            "fizz\n",
            "buzz\n",
            "11\n",
            "fizz\n",
            "13\n",
            "14\n",
            "fizzbuzz\n",
            "16\n",
            "17\n",
            "fizz\n",
            "19\n",
            "buzz\n",
            "fizz\n",
            "22\n",
            "23\n",
            "fizz\n",
            "buzz\n",
            "26\n",
            "fizz\n",
            "28\n",
            "29\n",
            "fizzbuzz\n",
            "31\n",
            "32\n",
            "fizz\n",
            "34\n",
            "buzz\n",
            "fizz\n",
            "37\n",
            "38\n",
            "fizz\n"
          ]
        }
      ],
      "source": [
        "\n",
        "for inte in range(0,40):\n",
        " if inte%3 == 0 and inte%5 == 0:\n",
        "     print('fizzbuzz')\n",
        " elif inte%3 == 0:\n",
        "     print('fizz')\n",
        " elif inte%5 == 0:\n",
        "     print('buzz')   \n",
        " else:\n",
        "    print(inte)"
      ]
    },
    {
      "cell_type": "code",
      "execution_count": null,
      "metadata": {
        "colab": {
          "base_uri": "https://localhost:8080/"
        },
        "id": "qYjt_HJNeffC",
        "outputId": "45fdcb99-ecdb-43d9-da0f-ba10a6737dd6"
      },
      "outputs": [
        {
          "data": {
            "text/plain": [
              "['c', 'a', 'l', 'o', 't', 'f', 'l', 'o', 'e', 'w', 'i', 't', 's']"
            ]
          },
          "execution_count": 79,
          "metadata": {},
          "output_type": "execute_result"
        }
      ],
      "source": [
        "ster = 'create a list of the first letter of every word in this string'\n",
        "[word[0] for word in ster.split()]\n",
        " \n"
      ]
    },
    {
      "cell_type": "code",
      "execution_count": null,
      "metadata": {
        "id": "H9x7bMDYylBS"
      },
      "outputs": [],
      "source": [
        "def say_hello():\n",
        "  print(\"hello\")\n",
        "  print('how are you')\n",
        "  print(\"dear\")"
      ]
    },
    {
      "cell_type": "code",
      "execution_count": null,
      "metadata": {
        "colab": {
          "base_uri": "https://localhost:8080/"
        },
        "id": "n1scfQKR9t0A",
        "outputId": "43042054-6a54-46fa-d0b3-e593cc405676"
      },
      "outputs": [
        {
          "name": "stdout",
          "output_type": "stream",
          "text": [
            "hello\n",
            "how are you\n",
            "dear\n"
          ]
        }
      ],
      "source": [
        "say_hello()"
      ]
    },
    {
      "cell_type": "code",
      "execution_count": null,
      "metadata": {
        "colab": {
          "base_uri": "https://localhost:8080/"
        },
        "id": "Loo9Q4KoTgK9",
        "outputId": "ab544b91-2341-4f68-ce75-ae5c2c7b0386"
      },
      "outputs": [
        {
          "name": "stdout",
          "output_type": "stream",
          "text": [
            "30\n"
          ]
        }
      ],
      "source": [
        "def print_result(a,b):\n",
        "  print(a+b)\n",
        "  \n",
        "print_result(10,20)"
      ]
    },
    {
      "cell_type": "code",
      "execution_count": null,
      "metadata": {
        "colab": {
          "base_uri": "https://localhost:8080/"
        },
        "id": "p0olKqSITgNv",
        "outputId": "879a516a-de32-47be-8963-7f285b5ed7f9"
      },
      "outputs": [
        {
          "data": {
            "text/plain": [
              "30"
            ]
          },
          "execution_count": 83,
          "metadata": {},
          "output_type": "execute_result"
        }
      ],
      "source": [
        "def return_result(a,b):\n",
        "  return a+b\n",
        "return_result(10,20) \n"
      ]
    },
    {
      "cell_type": "code",
      "execution_count": null,
      "metadata": {
        "id": "EcUph4gQd4FO"
      },
      "outputs": [],
      "source": [
        "def my_func(a,b):\n",
        "  print(a+b)               #can do both by printing as well as returning\n",
        "  return a+b"
      ]
    },
    {
      "cell_type": "code",
      "execution_count": null,
      "metadata": {
        "id": "z8gTzTiUeV6y"
      },
      "outputs": [],
      "source": [
        "def even_case(numb):\n",
        "  return numb%2 == 0"
      ]
    },
    {
      "cell_type": "code",
      "execution_count": null,
      "metadata": {
        "colab": {
          "base_uri": "https://localhost:8080/"
        },
        "id": "AvA8GQcng1UG",
        "outputId": "b595a4e3-56f7-4e1b-dfcd-3168e068277a"
      },
      "outputs": [
        {
          "data": {
            "text/plain": [
              "True"
            ]
          },
          "execution_count": 86,
          "metadata": {},
          "output_type": "execute_result"
        }
      ],
      "source": [
        "even_case(20)"
      ]
    },
    {
      "cell_type": "code",
      "execution_count": null,
      "metadata": {
        "id": "rRL-bhOZmPJB"
      },
      "outputs": [],
      "source": [
        "def even_check(number_list):\n",
        "   for num in number_list:\n",
        "      if num%2 == 0:\n",
        "        return True\n",
        "      else :\n",
        "         pass            # returning false here is not correct as it will not read the entire loop and just check the first letter\n",
        "\n",
        "   return False    #using this return outside to allow the loop to first run completely and check for even no. and return true if present otherwise it will just read the first letter and return result"
      ]
    },
    {
      "cell_type": "code",
      "execution_count": null,
      "metadata": {
        "colab": {
          "base_uri": "https://localhost:8080/"
        },
        "id": "sB3PAthVnmDj",
        "outputId": "c66be918-c69e-4753-dfd9-5f412b282059"
      },
      "outputs": [
        {
          "data": {
            "text/plain": [
              "True"
            ]
          },
          "execution_count": 88,
          "metadata": {},
          "output_type": "execute_result"
        }
      ],
      "source": [
        "even_check([7,3,2])"
      ]
    },
    {
      "cell_type": "code",
      "execution_count": null,
      "metadata": {
        "id": "XmOilpmtsa3U"
      },
      "outputs": [],
      "source": [
        "#return even no. list \n",
        "\n",
        "def even_list(number_list):\n",
        "\n",
        "  even_number = []   #placeholder variable\n",
        "\n",
        "  for number in number_list:\n",
        "     if number%2 == 0:\n",
        "        even_number.append(number)\n",
        "     else:\n",
        "         pass\n",
        "\n",
        "  return even_number\n",
        "        "
      ]
    },
    {
      "cell_type": "code",
      "execution_count": null,
      "metadata": {
        "colab": {
          "base_uri": "https://localhost:8080/"
        },
        "id": "6n2J2KQytD63",
        "outputId": "663b1e7c-feff-48f7-f50d-ca7ed3a2bea3"
      },
      "outputs": [
        {
          "data": {
            "text/plain": [
              "[2, 4, 6, 8]"
            ]
          },
          "execution_count": 90,
          "metadata": {},
          "output_type": "execute_result"
        }
      ],
      "source": [
        "even_list([1,2,3,4,5,6,8])"
      ]
    },
    {
      "cell_type": "code",
      "execution_count": null,
      "metadata": {
        "colab": {
          "base_uri": "https://localhost:8080/"
        },
        "id": "qQtFUtKHtOxr",
        "outputId": "8cc9e3af-0fe4-4c1e-fe63-824014adecad"
      },
      "outputs": [
        {
          "data": {
            "text/plain": [
              "[]"
            ]
          },
          "execution_count": 91,
          "metadata": {},
          "output_type": "execute_result"
        }
      ],
      "source": [
        "even_list([3,5,7,9])"
      ]
    },
    {
      "cell_type": "code",
      "execution_count": null,
      "metadata": {
        "id": "1DTOey3GJ-zR"
      },
      "outputs": [],
      "source": [
        "stock_list = [('appl',200) , ('goog',300) , ('micro',400)]"
      ]
    },
    {
      "cell_type": "code",
      "execution_count": null,
      "metadata": {
        "colab": {
          "base_uri": "https://localhost:8080/"
        },
        "id": "aYtBlJQNKZ2Y",
        "outputId": "21f6cf93-b6e6-4e7a-9068-44a061b98eec"
      },
      "outputs": [
        {
          "name": "stdout",
          "output_type": "stream",
          "text": [
            "appl\n",
            "goog\n",
            "micro\n"
          ]
        }
      ],
      "source": [
        "for a,b in stock_list:\n",
        "   print(a)"
      ]
    },
    {
      "cell_type": "code",
      "execution_count": null,
      "metadata": {
        "id": "Pxxl54rskvRK"
      },
      "outputs": [],
      "source": [
        "work_hours = [('abbey',200) , ('neil',400) , ('sam',300)]\n",
        "\n",
        "def employee_check(work_hours):\n",
        "\n",
        "  current_max = 0\n",
        "  employee_of_month = ''\n",
        "\n",
        "  for employee,hours in work_hours:\n",
        "    if hours > current_max:\n",
        "       current_max = hours\n",
        "       employee_of_month = employee\n",
        "\n",
        "    else :\n",
        "       pass\n",
        "\n",
        "  return(employee_of_month,current_max)    \n",
        "\n",
        "\n",
        "\n",
        "\n",
        "      "
      ]
    },
    {
      "cell_type": "code",
      "execution_count": null,
      "metadata": {
        "id": "vrVcFI-Nm4jk"
      },
      "outputs": [],
      "source": [
        "name,hours = employee_check(work_hours)      #unpacking"
      ]
    },
    {
      "cell_type": "code",
      "execution_count": null,
      "metadata": {
        "colab": {
          "base_uri": "https://localhost:8080/",
          "height": 35
        },
        "id": "CB3xjnkFufA4",
        "outputId": "9507d6a1-439a-484a-9cf2-b5fae6a701be"
      },
      "outputs": [
        {
          "data": {
            "application/vnd.google.colaboratory.intrinsic+json": {
              "type": "string"
            },
            "text/plain": [
              "'neil'"
            ]
          },
          "execution_count": 96,
          "metadata": {},
          "output_type": "execute_result"
        }
      ],
      "source": [
        "name"
      ]
    },
    {
      "cell_type": "code",
      "execution_count": null,
      "metadata": {
        "colab": {
          "base_uri": "https://localhost:8080/",
          "height": 235
        },
        "id": "a43aAG7SusIO",
        "outputId": "ec5b0e16-c9c1-49b5-f421-5a11a36dc09f"
      },
      "outputs": [
        {
          "name": "stdout",
          "output_type": "stream",
          "text": [
            "[(1, 0), (2, 'three'), ('four', 0)]\n"
          ]
        },
        {
          "ename": "TypeError",
          "evalue": "ignored",
          "output_type": "error",
          "traceback": [
            "\u001b[0;31m---------------------------------------------------------------------------\u001b[0m",
            "\u001b[0;31mTypeError\u001b[0m                                 Traceback (most recent call last)",
            "\u001b[0;32m<ipython-input-98-1defe955a2c0>\u001b[0m in \u001b[0;36m<module>\u001b[0;34m\u001b[0m\n\u001b[1;32m      2\u001b[0m \u001b[0mprint\u001b[0m\u001b[0;34m(\u001b[0m\u001b[0mtuples_con\u001b[0m\u001b[0;34m)\u001b[0m\u001b[0;34m\u001b[0m\u001b[0;34m\u001b[0m\u001b[0m\n\u001b[1;32m      3\u001b[0m \u001b[0;34m\u001b[0m\u001b[0m\n\u001b[0;32m----> 4\u001b[0;31m \u001b[0mdict_conv\u001b[0m \u001b[0;34m=\u001b[0m \u001b[0mdict\u001b[0m\u001b[0;34m(\u001b[0m\u001b[0mtuples_con\u001b[0m\u001b[0;34m)\u001b[0m\u001b[0;34m\u001b[0m\u001b[0;34m\u001b[0m\u001b[0m\n\u001b[0m\u001b[1;32m      5\u001b[0m \u001b[0mprint\u001b[0m\u001b[0;34m(\u001b[0m\u001b[0mdict_conv\u001b[0m\u001b[0;34m)\u001b[0m\u001b[0;34m\u001b[0m\u001b[0;34m\u001b[0m\u001b[0m\n",
            "\u001b[0;31mTypeError\u001b[0m: 'dict' object is not callable"
          ]
        }
      ],
      "source": [
        "tuples_con = [(1,0),(2,'three'),('four',0)]\n",
        "print(tuples_con)\n",
        "\n",
        "dict_conv = dict(tuples_con)\n",
        "print(dict_conv)\n"
      ]
    },
    {
      "cell_type": "code",
      "execution_count": null,
      "metadata": {
        "id": "J7My0Dftuhg0"
      },
      "outputs": [],
      "source": [
        "# game \n",
        "from random import shuffle \n",
        "mylist = ['0',' ',' ']\n",
        "\n",
        "def shuffle_list(mylist):\n",
        "  shuffle(mylist)\n",
        "  return mylist\n",
        "\n",
        "def player_guess():\n",
        "   guess = ''\n",
        "\n",
        "   while guess not in ['0','1','2']:\n",
        "     guess = input(\"Pick a number:0,1 or 2\")\n",
        "\n",
        "   return int(guess)\n",
        "\n",
        "def check_guess(mylist,guess):\n",
        "  if mylist[guess] == '0':\n",
        "     print('Correct')\n",
        "\n",
        "  else :\n",
        "     print('Wrong')\n",
        "     print(mylist)"
      ]
    },
    {
      "cell_type": "code",
      "execution_count": null,
      "metadata": {
        "colab": {
          "base_uri": "https://localhost:8080/",
          "height": 165
        },
        "id": "DXHu3yE3qs6f",
        "outputId": "acbb721b-dac2-4193-b42c-8af649f0ad0b"
      },
      "outputs": [
        {
          "ename": "NameError",
          "evalue": "ignored",
          "output_type": "error",
          "traceback": [
            "\u001b[0;31m---------------------------------------------------------------------------\u001b[0m",
            "\u001b[0;31mNameError\u001b[0m                                 Traceback (most recent call last)",
            "\u001b[0;32m<ipython-input-105-5bba8691fcfe>\u001b[0m in \u001b[0;36m<module>\u001b[0;34m\u001b[0m\n\u001b[0;32m----> 1\u001b[0;31m \u001b[0mcheck_guess\u001b[0m\u001b[0;34m(\u001b[0m\u001b[0mmylist\u001b[0m\u001b[0;34m,\u001b[0m\u001b[0mguess\u001b[0m\u001b[0;34m)\u001b[0m\u001b[0;34m\u001b[0m\u001b[0;34m\u001b[0m\u001b[0m\n\u001b[0m",
            "\u001b[0;31mNameError\u001b[0m: name 'guess' is not defined"
          ]
        }
      ],
      "source": [
        "check_guess(mylist,guess)"
      ]
    },
    {
      "cell_type": "code",
      "execution_count": null,
      "metadata": {
        "id": "_yYRBYOGsze1"
      },
      "outputs": [],
      "source": [
        "name = \"Hello Name\"\n",
        "def myfunc(name):\n",
        "   \n",
        "   print('{}'.format(name))\n",
        "   "
      ]
    },
    {
      "cell_type": "code",
      "execution_count": null,
      "metadata": {
        "id": "ftsTRrLL1EtJ"
      },
      "outputs": [],
      "source": [
        "#(*args) is used where you dont want to limit the entries\n",
        "\n",
        "def myfunc(*args):      #args can be anything of choice but with *\n",
        "   return sum(args) * 2"
      ]
    },
    {
      "cell_type": "code",
      "execution_count": null,
      "metadata": {
        "id": "vw0fU_6c2949"
      },
      "outputs": [],
      "source": [
        " myfunc(1,2,3,4,5,6,7,8,9,10)"
      ]
    },
    {
      "cell_type": "code",
      "execution_count": null,
      "metadata": {
        "id": "A1Qnf84YeoCT"
      },
      "outputs": [],
      "source": [
        "def myfunc(**kwargs):\n",
        "  print(kwargs)\n",
        "  if 'fruit' in kwargs:\n",
        "    print('my fruit choice is {}'.format(kwargs['fruit']))\n",
        "  else:\n",
        "    print(\"I dont eat fruit\")"
      ]
    },
    {
      "cell_type": "code",
      "execution_count": null,
      "metadata": {
        "id": "I2tIhDf73fd2"
      },
      "outputs": [],
      "source": [
        "myfunc(fruit = 'apple', vegie = 'lettuce')"
      ]
    },
    {
      "cell_type": "code",
      "execution_count": null,
      "metadata": {
        "id": "4iFHqrmbCsIn"
      },
      "outputs": [],
      "source": [
        "def allfunc(*args,**kwargs):\n",
        "  print(args)\n",
        "  print(kwargs)\n",
        "  print(\"My fav is {} {}\".format(args[1],kwargs['animal']))   #indexing to select in input and args gives tuples and kwargs gives dictionary"
      ]
    },
    {
      "cell_type": "code",
      "execution_count": null,
      "metadata": {
        "id": "7VSC2gJjDPbD"
      },
      "outputs": [],
      "source": [
        "allfunc(10,20,30,animal = 'dog',fruit = 'apple')     #input should in order args first and kwargs then,,,vice versa in opp case"
      ]
    },
    {
      "cell_type": "code",
      "execution_count": null,
      "metadata": {
        "id": "YkZzmRTaGXxK"
      },
      "outputs": [],
      "source": [
        "def myfunc(*args):\n",
        "    evenli = []\n",
        "    for n in args:\n",
        "        if n%2 == 0:\n",
        "            evenli.append(n)\n",
        "\n",
        "    return evenli\n",
        "            "
      ]
    },
    {
      "cell_type": "code",
      "execution_count": null,
      "metadata": {
        "id": "fBBoffXyGZZr"
      },
      "outputs": [],
      "source": [
        "myfunc(2,3,4,5,7,8,12,46)"
      ]
    },
    {
      "cell_type": "code",
      "execution_count": null,
      "metadata": {
        "id": "7vPt4Y0Kl6j4"
      },
      "outputs": [],
      "source": [
        "def myfunc(*args):\n",
        "\n",
        "    string = \" \"\n",
        "    index = 0\n",
        "    for n in args:\n",
        "        if index % 2 == 0:\n",
        "           n.upper()\n",
        "           string.append(n)\n",
        "             \n",
        "    else :\n",
        "         n.lower()\n",
        "         string.append(n)\n",
        "\n",
        "        \n",
        "    return string\n",
        "    index += 1\n",
        "    \n"
      ]
    },
    {
      "cell_type": "code",
      "execution_count": null,
      "metadata": {
        "colab": {
          "base_uri": "https://localhost:8080/",
          "height": 165
        },
        "id": "R29YBbuUmBhn",
        "outputId": "1fd6c288-850d-4783-f4ef-024bc52c2c35"
      },
      "outputs": [
        {
          "ename": "NameError",
          "evalue": "ignored",
          "output_type": "error",
          "traceback": [
            "\u001b[0;31m---------------------------------------------------------------------------\u001b[0m",
            "\u001b[0;31mNameError\u001b[0m                                 Traceback (most recent call last)",
            "\u001b[0;32m<ipython-input-102-9d7f82128676>\u001b[0m in \u001b[0;36m<module>\u001b[0;34m\u001b[0m\n\u001b[0;32m----> 1\u001b[0;31m \u001b[0mmyfunc\u001b[0m\u001b[0;34m(\u001b[0m\u001b[0mwording\u001b[0m\u001b[0;34m)\u001b[0m\u001b[0;34m\u001b[0m\u001b[0;34m\u001b[0m\u001b[0m\n\u001b[0m",
            "\u001b[0;31mNameError\u001b[0m: name 'myfunc' is not defined"
          ]
        }
      ],
      "source": [
        "myfunc(wording)"
      ]
    },
    {
      "cell_type": "code",
      "execution_count": null,
      "metadata": {
        "id": "QztVAl-Ip9UC"
      },
      "outputs": [],
      "source": [
        "#function that takes a string and return a same string with uppercase at even index and lowecase at odd index\n",
        "def myfunc(word):\n",
        "    result = \"\"\n",
        "    for index, letter in enumerate(word):\n",
        "        if index % 2 == 0:\n",
        "            result += letter.upper()\n",
        "        else:\n",
        "            result += letter.lower()\n",
        "    return result"
      ]
    },
    {
      "cell_type": "code",
      "execution_count": null,
      "metadata": {
        "id": "fxO92uy9p-53"
      },
      "outputs": [],
      "source": [
        "myfunc('car')"
      ]
    },
    {
      "cell_type": "code",
      "execution_count": null,
      "metadata": {
        "id": "735luY93t19Q"
      },
      "outputs": [],
      "source": [
        "#function with 2 numbers returns lesser if both even and greater if one or both odd\n",
        "def my_num(a,b):\n",
        "  if a%2 ==0 and b%2 ==0:\n",
        "    if a<b:\n",
        "      result = a\n",
        "    else:\n",
        "      result = b\n",
        "\n",
        "  else:\n",
        "    if a>b:\n",
        "      result = a\n",
        "    else:\n",
        "      result = b\n",
        "\n",
        "  return result"
      ]
    },
    {
      "cell_type": "code",
      "execution_count": null,
      "metadata": {
        "id": "XsqybC0ivdXd"
      },
      "outputs": [],
      "source": [
        "my_num(2,7)"
      ]
    },
    {
      "cell_type": "code",
      "execution_count": null,
      "metadata": {
        "id": "s-SN-d7U_2pD"
      },
      "outputs": [],
      "source": [
        "#alternate method\n",
        "\n",
        "def my_num(a,b):\n",
        "  if a%2 ==0 and b%2 ==0:\n",
        "    result = min(a,b)\n",
        "  else:\n",
        "   result = max(a,b)\n",
        "  return result\n",
        "\n"
      ]
    },
    {
      "cell_type": "code",
      "execution_count": null,
      "metadata": {
        "id": "O-n665JZAIdl"
      },
      "outputs": [],
      "source": [
        "my_num(2,7)"
      ]
    },
    {
      "cell_type": "code",
      "execution_count": null,
      "metadata": {
        "id": "wiTGf_GbC4fT"
      },
      "outputs": [],
      "source": [
        "#func that takes two word string and returns true if both word starts with same letter\n",
        "def same_letter(string):\n",
        "  wordlist = string.split()\n",
        "  first = wordlist[0]\n",
        "  second = wordlist[1]\n",
        "  if first[0] == second[0]:\n",
        "    return True\n",
        "  else:\n",
        "    pass\n",
        "\n"
      ]
    },
    {
      "cell_type": "code",
      "execution_count": null,
      "metadata": {
        "id": "piOsjSVKUkJD"
      },
      "outputs": [],
      "source": [
        "same_letter(\"Hello World\")"
      ]
    },
    {
      "cell_type": "code",
      "execution_count": null,
      "metadata": {
        "id": "RDjpp5PtYhuU"
      },
      "outputs": [],
      "source": [
        "#returns true if sum of intezer is 20 or one of digit is 20 else false\n",
        "def inte_twenty(n1,n2):\n",
        "  if n1+n2 == 20 or n1 == 20 or n2 == 20:\n",
        "    return True\n",
        "  else:\n",
        "    return False\n"
      ]
    },
    {
      "cell_type": "code",
      "execution_count": null,
      "metadata": {
        "id": "4Ba0ZKvLZsL6"
      },
      "outputs": [],
      "source": [
        "def inte_twenty(n1,n2):\n",
        "  return n1+n2 == 20 or n1 == 20 or n2 == 20"
      ]
    },
    {
      "cell_type": "code",
      "execution_count": null,
      "metadata": {
        "id": "ip-PEOwia9pO"
      },
      "outputs": [],
      "source": [
        "def capt_lett(name):\n",
        "  \n",
        "  first_letter = name[0]\n",
        "  in_between = name[1:3]\n",
        "  fourth_letter = name[3]\n",
        "  rest = name[4:]\n",
        "\n",
        "  return first_letter.upper() + in_between + fourth_letter.upper() + rest\n",
        "\n"
      ]
    },
    {
      "cell_type": "code",
      "execution_count": null,
      "metadata": {
        "id": "hz2fUZuZ2BtR"
      },
      "outputs": [],
      "source": [
        "capt_lett('yashashvi')"
      ]
    },
    {
      "cell_type": "code",
      "execution_count": null,
      "metadata": {
        "id": "n2wCi4Gc30Pj"
      },
      "outputs": [],
      "source": [
        "#alternate method\n",
        "def capt_lett(name):\n",
        "  first_half = name[:3]\n",
        "  second_half = name[3:]\n",
        "\n",
        "  \n",
        "  return first_half.capitalize() + second_half.capitalize()"
      ]
    },
    {
      "cell_type": "code",
      "execution_count": null,
      "metadata": {
        "id": "C6Vk_Ees50IW"
      },
      "outputs": [],
      "source": [
        "capt_lett('yashashvi')"
      ]
    },
    {
      "cell_type": "code",
      "execution_count": null,
      "metadata": {
        "id": "M3WOmkPaXGEh"
      },
      "outputs": [],
      "source": [
        "def rev_word(string):\n",
        "  result = string.split()\n",
        "  geg = result[::-1]\n",
        "  rev = ' '.join(geg)     #converts list into string (string is converted into list using append)\n",
        "  return rev\n"
      ]
    },
    {
      "cell_type": "code",
      "execution_count": null,
      "metadata": {
        "id": "Q8Gh-ytMXfu5"
      },
      "outputs": [],
      "source": [
        "rev_word('My name is Tiara')"
      ]
    },
    {
      "cell_type": "code",
      "execution_count": null,
      "metadata": {
        "id": "hmdjNVwElPfv"
      },
      "outputs": [],
      "source": [
        "def num_between_range(num):\n",
        "  return (abs(100-num) <= 10) or (abs(200-num) <= 10)\n"
      ]
    },
    {
      "cell_type": "code",
      "execution_count": null,
      "metadata": {
        "id": "gpm3i_z9l6vI"
      },
      "outputs": [],
      "source": [
        "num_between_range(150)"
      ]
    },
    {
      "cell_type": "code",
      "execution_count": null,
      "metadata": {
        "id": "7oVENhRmsqZZ"
      },
      "outputs": [],
      "source": [
        "def number_33(num):\n",
        "  for i in range(0,len(num)-1):\n",
        "    if num[i] == 3 and num[i+1] ==3:\n",
        "      return True\n",
        "    \n",
        "  return False"
      ]
    },
    {
      "cell_type": "code",
      "execution_count": null,
      "metadata": {
        "id": "GSa6Xcx6EoSE"
      },
      "outputs": [],
      "source": [
        "number_33([1,2,3,3])"
      ]
    },
    {
      "cell_type": "code",
      "execution_count": null,
      "metadata": {
        "id": "_27iM4tcF0nh"
      },
      "outputs": [],
      "source": [
        "def triple_word(name):\n",
        "  res = \"\"\n",
        "  for letter in name:\n",
        "    res += letter*3\n",
        "  return res"
      ]
    },
    {
      "cell_type": "code",
      "execution_count": null,
      "metadata": {
        "id": "OrPHNYsbGLXx"
      },
      "outputs": [],
      "source": [
        "triple_word(\"hello\")"
      ]
    },
    {
      "cell_type": "code",
      "execution_count": null,
      "metadata": {
        "id": "1xVa65nLpPe9"
      },
      "outputs": [],
      "source": [
        "def check_sum(a,b,c):\n",
        "  \n",
        "  for a,b,c in range(0,12):\n",
        "    if sum([a,b,c]) <= 21:\n",
        "      return sum([a,b,c])\n",
        "    elif 11 in [a,b,c] and sum([a,b,c]) >= 21:\n",
        "      return sum([a,b,c])-10\n",
        "    else:\n",
        "      return 'BUST'\n"
      ]
    },
    {
      "cell_type": "code",
      "execution_count": null,
      "metadata": {
        "id": "BXTCbRAhBRCG"
      },
      "outputs": [],
      "source": [
        "check_sum(10,11,4)"
      ]
    },
    {
      "cell_type": "code",
      "execution_count": null,
      "metadata": {
        "id": "r1Yb5b2R_0_b"
      },
      "outputs": [],
      "source": [
        "n = int(input())\n",
        "if n%2 == 0:\n",
        "    if n in range(2,5):\n",
        "      print('Not Weird')\n",
        "    elif n in range(6,20):\n",
        "      print('Weird')\n",
        "    else:\n",
        "      print('Not Weird')\n",
        "else:\n",
        "      print('weird')\n",
        "  \n",
        " "
      ]
    },
    {
      "cell_type": "code",
      "execution_count": null,
      "metadata": {
        "id": "2BqzjtbL5rqV"
      },
      "outputs": [],
      "source": [
        "#mapping\n",
        "def sprint(string):\n",
        "  if len(string)%2 == 0:\n",
        "    return 'Even'\n",
        "  else:\n",
        "    return string[0]"
      ]
    },
    {
      "cell_type": "code",
      "execution_count": null,
      "metadata": {
        "id": "JBgikRueXJJy"
      },
      "outputs": [],
      "source": [
        "name = ['andy' , 'sam' , 'murrel']\n",
        "print(list(map(sprint,name)))"
      ]
    },
    {
      "cell_type": "code",
      "execution_count": null,
      "metadata": {
        "id": "svgyq9PjgvZL"
      },
      "outputs": [],
      "source": [
        "print(list(map(sprint,name)))"
      ]
    },
    {
      "cell_type": "code",
      "execution_count": null,
      "metadata": {
        "id": "DtXp7J1qjsDn"
      },
      "outputs": [],
      "source": [
        "def fun(variable):\n",
        "  lett = ['a','e','i','o','u']\n",
        "  if (variable in lett):\n",
        "    return True\n",
        "  else:\n",
        "    return False\n",
        "    "
      ]
    },
    {
      "cell_type": "code",
      "execution_count": null,
      "metadata": {
        "id": "x_k1c8gMj-Hc"
      },
      "outputs": [],
      "source": [
        "#filter \n",
        "seq = ['g','e','e','k','l','o']\n",
        "filtered = filter(fun,seq)\n",
        "print(list(filtered))\n",
        "\n",
        "for n in filtered:     #will print in sequence\n",
        "  print(n)\n",
        "  "
      ]
    },
    {
      "cell_type": "code",
      "execution_count": null,
      "metadata": {
        "id": "Is031tVy0DKu"
      },
      "outputs": [],
      "source": [
        "mynum = [1,2,3,4,5,6,7,8]"
      ]
    },
    {
      "cell_type": "code",
      "execution_count": null,
      "metadata": {
        "id": "vujaPAjnB98E"
      },
      "outputs": [],
      "source": [
        "lambda num :num**2\n",
        "list(map(lambda num :num**2,mynum))"
      ]
    },
    {
      "cell_type": "code",
      "execution_count": null,
      "metadata": {
        "id": "rw7p7kxX10eU"
      },
      "outputs": [],
      "source": [
        "lambda nums :nums%2 == 0"
      ]
    },
    {
      "cell_type": "code",
      "execution_count": null,
      "metadata": {
        "id": "jPyH4k-i1jFV"
      },
      "outputs": [],
      "source": [
        "list(filter(lambda nums :nums%2 == 0,mynum))"
      ]
    },
    {
      "cell_type": "code",
      "execution_count": null,
      "metadata": {
        "id": "ojC46M262-co"
      },
      "outputs": [],
      "source": [
        "list(map(lambda namess:namess[0],name))"
      ]
    },
    {
      "cell_type": "code",
      "execution_count": null,
      "metadata": {
        "id": "gIbMTfckil9l"
      },
      "outputs": [],
      "source": [
        "is_even_list = [lambda arg=x: arg * 10 for x in range(1, 5)]\n",
        "for n in is_even_list:\n",
        "  print(n()) #parathesis imp\n",
        " "
      ]
    },
    {
      "cell_type": "code",
      "execution_count": null,
      "metadata": {
        "id": "zhhQt7Rjj7zl"
      },
      "outputs": [],
      "source": [
        "max = lambda a,b:a if (a>b) else b\n",
        "print(max(1,2))"
      ]
    },
    {
      "cell_type": "code",
      "execution_count": null,
      "metadata": {
        "id": "VTWxKeKUjjLs"
      },
      "outputs": [],
      "source": [
        "#LEGB Rule format\n",
        "name ='This is Global String'   #GLOBAL \n",
        "\n",
        "def greet():\n",
        "  #name = 'Sammy'            #ENCLOSING FUNCTION LOCALS\n",
        "  def hello():  \n",
        "                              #LOCAL FUNCTION\n",
        "    name = 'Yashi'\n",
        "    print(\"Hello \"+name)   \n",
        "  hello()\n",
        "greet()\n"
      ]
    },
    {
      "cell_type": "code",
      "execution_count": null,
      "metadata": {
        "id": "Jk-4ZshJj-Br"
      },
      "outputs": [],
      "source": [
        "greet()"
      ]
    },
    {
      "cell_type": "code",
      "execution_count": null,
      "metadata": {
        "id": "KzhD8BJa0AOo"
      },
      "outputs": [],
      "source": [
        "x = 50\n",
        "def func(x):\n",
        "  print(f'The value of x is {x}')\n",
        "\n",
        "  x=200\n",
        "  print(f'changed value of x to {x}')"
      ]
    },
    {
      "cell_type": "code",
      "execution_count": null,
      "metadata": {
        "id": "QLRj4vzl1bZx"
      },
      "outputs": [],
      "source": [
        "print(x)"
      ]
    },
    {
      "cell_type": "code",
      "execution_count": null,
      "metadata": {
        "id": "ZYBxbEzg0Inv"
      },
      "outputs": [],
      "source": [
        "func(x)"
      ]
    },
    {
      "cell_type": "code",
      "execution_count": null,
      "metadata": {
        "id": "Lqlp8BLN1gTc"
      },
      "outputs": [],
      "source": [
        "#grabing global x and reassigning to local variable\n",
        "x = 50\n",
        "def func():\n",
        "  global x\n",
        "  print(f'value of x is {x}')\n",
        "\n",
        "  x= 100       #global x has given new value now\n",
        "  print(f'reassigned value of x is {x}')"
      ]
    },
    {
      "cell_type": "code",
      "execution_count": null,
      "metadata": {
        "id": "zkvbzWoy17I4"
      },
      "outputs": [],
      "source": [
        "print(x)"
      ]
    },
    {
      "cell_type": "code",
      "execution_count": null,
      "metadata": {
        "id": "WNeqgSPT1-Rr"
      },
      "outputs": [],
      "source": [
        "func()"
      ]
    },
    {
      "cell_type": "code",
      "execution_count": null,
      "metadata": {
        "id": "sLQvVvb62PaJ"
      },
      "outputs": [],
      "source": [
        "print(x)"
      ]
    },
    {
      "cell_type": "code",
      "execution_count": null,
      "metadata": {
        "id": "dgv7hGkda1fZ"
      },
      "outputs": [],
      "source": [
        "#QUESTIONS PRACTICE \n",
        "#function that comutes the volume of sphere\n",
        "\n",
        "def vol(rad):\n",
        "  return (4/3)*(3.14)*(rad**3)\n",
        "  \n",
        "\n"
      ]
    },
    {
      "cell_type": "code",
      "execution_count": null,
      "metadata": {
        "id": "hkgr9A_KbguZ"
      },
      "outputs": [],
      "source": [
        "vol(2)"
      ]
    },
    {
      "cell_type": "code",
      "execution_count": null,
      "metadata": {
        "id": "1LEBc5RFcRTE"
      },
      "outputs": [],
      "source": [
        "#whether a number is within a range or not inclusive or high and low\n",
        "def ran_check(num,low,high):\n",
        "   if num in range(low,high+1):  #range func is exclusive of high s0 +1\n",
        "     print(f'{num} is in the range of{low} and {high}')\n",
        "   else:\n",
        "      print(f'not in range')\n",
        "    "
      ]
    },
    {
      "cell_type": "code",
      "execution_count": null,
      "metadata": {
        "id": "TT_MPF7ecxP9"
      },
      "outputs": [],
      "source": [
        "ran_check(7,2,7)"
      ]
    },
    {
      "cell_type": "code",
      "execution_count": null,
      "metadata": {
        "id": "cK9XjFdXe9gb"
      },
      "outputs": [],
      "source": [
        "#function that takes a string and calculates the upper ans lower case letter\n",
        "def up_low(string):\n",
        "  uppercase = 0\n",
        "  lowercase = 0\n",
        "  for letter in string:\n",
        "    if letter.isupper():\n",
        "      uppercase += 1\n",
        "    elif letter.islower():\n",
        "      lowercase +=1\n",
        "    else:\n",
        "      pass\n",
        "\n",
        "  print(string)\n",
        "  print(f'lowercase count is {lowercase}')\n",
        "  print(f'uppercase count is {uppercase}')\n",
        "\n"
      ]
    },
    {
      "cell_type": "code",
      "execution_count": null,
      "metadata": {
        "id": "SZf3MiiZsOpT"
      },
      "outputs": [],
      "source": [
        "up_low('My Name is Khan')"
      ]
    },
    {
      "cell_type": "code",
      "execution_count": null,
      "metadata": {
        "id": "pO3aBvX9AA9L"
      },
      "outputs": [],
      "source": [
        "def unique_list(list):\n",
        "  return set(list)"
      ]
    },
    {
      "cell_type": "code",
      "execution_count": null,
      "metadata": {
        "id": "y0L2jYrNAI5P"
      },
      "outputs": [],
      "source": [
        "unique_list([1,1,1,2,2,2,2,3,3,4,4,4,5])"
      ]
    },
    {
      "cell_type": "code",
      "execution_count": null,
      "metadata": {
        "id": "K21r01D45Ht6"
      },
      "outputs": [],
      "source": [
        "class Orange:\n",
        "  #init is lika a constructor in java ...whwn we use init we dont need to call, it gets called automatically\n",
        "  def _init_(self,colour,types):       #colour ,types are just argumenst \n",
        "\n",
        "    self.colour = colour  #self is an object and colour is assigned to self that is object\n",
        "    self.types = types\n",
        "\n",
        "  def my_fruit(self):\n",
        "   print(\"my fruit is \" , self.colour , self.types)"
      ]
    },
    {
      "cell_type": "code",
      "execution_count": null,
      "metadata": {
        "id": "jWXOFY2F5kGN"
      },
      "outputs": [],
      "source": [
        " my_fruit(colour = 'orange',types = 'citrus')"
      ]
    },
    {
      "cell_type": "code",
      "execution_count": null,
      "metadata": {
        "id": "lpNaicqE95id"
      },
      "outputs": [],
      "source": [
        "class Dog:\n",
        "  #class object attribute\n",
        "  #same for any instance of the class(no need to use self)\n",
        "\n",
        "  species = 'mammal'\n",
        "  def __init__(self,breed,name):\n",
        "     \n",
        "     self.breed = breed\n",
        "     self.name = name\n",
        "   \n",
        "#a method is a function inside of a class\n",
        "#operations --- methods\n",
        "\n",
        "  def bark(self):\n",
        "    print(\"woof\")\n",
        "   "
      ]
    },
    {
      "cell_type": "code",
      "execution_count": null,
      "metadata": {
        "id": "fYkihM0y-KE6"
      },
      "outputs": [],
      "source": [
        "my_dog = Dog('lab' ,'kobi')"
      ]
    },
    {
      "cell_type": "code",
      "execution_count": null,
      "metadata": {
        "id": "tzD7imVuBQ5w"
      },
      "outputs": [],
      "source": [
        "my_dog.bark()           #method needs to be called by using parenthesis"
      ]
    },
    {
      "cell_type": "code",
      "execution_count": null,
      "metadata": {
        "id": "oI7BzbGtC-SG"
      },
      "outputs": [],
      "source": [
        "my_dog.breed"
      ]
    },
    {
      "cell_type": "code",
      "execution_count": null,
      "metadata": {
        "id": "Zd1ERGMGkK5t"
      },
      "outputs": [],
      "source": [
        "class calculation():\n",
        "  work = \"maths prob\"\n",
        "  def __init__(self,a,b):\n",
        "    self.a = a\n",
        "    self.b = b\n",
        "    \n",
        "  def add(self,a,b):\n",
        "    c= a+b\n",
        "    return c\n",
        "\n",
        "  def mul(self,a,b):\n",
        "    c=a*b\n",
        "    return c\n",
        "\n",
        "  def div(self,a,b):\n",
        "    c=a/b\n",
        "    return float(c)\n",
        "\n",
        "  def calcc(self):\n",
        "     print(self.a + self.b )\n",
        "    \n"
      ]
    },
    {
      "cell_type": "markdown",
      "metadata": {
        "id": "s9_fvAUMm7mo"
      },
      "source": []
    },
    {
      "cell_type": "code",
      "execution_count": null,
      "metadata": {
        "id": "KiQXxsetBt_X"
      },
      "outputs": [],
      "source": [
        "my_calc = calculation(3,5)"
      ]
    },
    {
      "cell_type": "code",
      "execution_count": null,
      "metadata": {
        "id": "f8FaJFtIBuGQ"
      },
      "outputs": [],
      "source": [
        "calculation.add(1,2,3)"
      ]
    },
    {
      "cell_type": "code",
      "execution_count": null,
      "metadata": {
        "id": "xycwSuDUbRJl"
      },
      "outputs": [],
      "source": [
        "my_calc.add(2,3)"
      ]
    },
    {
      "cell_type": "code",
      "execution_count": null,
      "metadata": {
        "id": "wEtI133efMeD"
      },
      "outputs": [],
      "source": [
        "calculation.work"
      ]
    },
    {
      "cell_type": "code",
      "execution_count": null,
      "metadata": {
        "id": "PED_NGIDo7j1"
      },
      "outputs": [],
      "source": []
    },
    {
      "cell_type": "code",
      "execution_count": null,
      "metadata": {
        "id": "Rq3n95Gtg7vE"
      },
      "outputs": [],
      "source": [
        "my_calc.calcc()"
      ]
    },
    {
      "cell_type": "code",
      "execution_count": null,
      "metadata": {
        "id": "-waIvMZgK5FJ"
      },
      "outputs": [],
      "source": [
        "#calculator using basic python\n",
        "\n",
        "first = input(\"Enter first number :\")\n",
        "operator = input(\"Enter operator :\")\n",
        "second = input(\"Enter second number :\")\n",
        "\n",
        "first = int(first)\n",
        "second = int(second)\n",
        "\n",
        "if operator == '+':\n",
        "  print(first + second)\n",
        "elif operator == '-':\n",
        "  print(first - second)\n",
        "elif operator == '*':\n",
        "  print(first * second)\n",
        "elif operator == '/':\n",
        "  print(first / second)\n",
        "else:\n",
        "  print(\"invalid\")\n",
        "  \n",
        "  \n",
        "  \n"
      ]
    },
    {
      "cell_type": "code",
      "execution_count": null,
      "metadata": {
        "id": "DlwQTXgisMBY"
      },
      "outputs": [],
      "source": [
        "#find the circle\n",
        "\n",
        "class Circle():\n",
        "  pi = 3.14\n",
        "  \n",
        "  #function\n",
        "  def __init__(self,radius):\n",
        "      self.radius = radius\n",
        "      #two ways of calling pi.(1)pi attrirtube so calling via class name (2)self.pi(by creating instance)\n",
        "      self.area = radius * radius * Circle.pi     \n",
        "   \n",
        "   #method\n",
        "  def circumference(self):\n",
        "      return 2*self.pi*radius\n",
        "\n"
      ]
    },
    {
      "cell_type": "code",
      "execution_count": null,
      "metadata": {
        "id": "pBY9EUVTbob6"
      },
      "outputs": [],
      "source": [
        "my_circle = Circle(4)"
      ]
    },
    {
      "cell_type": "code",
      "execution_count": null,
      "metadata": {
        "id": "ynQRQfpgcJPV"
      },
      "outputs": [],
      "source": [
        "my_circle.circumference()"
      ]
    },
    {
      "cell_type": "code",
      "execution_count": null,
      "metadata": {
        "id": "u9QQMLC7_wP6"
      },
      "outputs": [],
      "source": [
        "my_circle.area"
      ]
    },
    {
      "cell_type": "code",
      "execution_count": null,
      "metadata": {
        "id": "nFZzHmKhSTT6"
      },
      "outputs": [],
      "source": [
        "#INHERITANCE IN OOPS\n",
        "#Base class\n",
        "class Animal():\n",
        "  def __init__(self):\n",
        "    print(\"Animal has been created\")\n",
        "\n",
        "  def who_am_i(self):     #method\n",
        "    print(\"I am zebra\")\n",
        "\n",
        "  def eat(self):         #method\n",
        "    print(\"I am eating \")"
      ]
    },
    {
      "cell_type": "code",
      "execution_count": null,
      "metadata": {
        "id": "4sj-cnlXVp13"
      },
      "outputs": [],
      "source": [
        "myanimal= Animal()"
      ]
    },
    {
      "cell_type": "code",
      "execution_count": null,
      "metadata": {
        "id": "jSUSJO7_WGvj"
      },
      "outputs": [],
      "source": [
        "class Dog(Animal):     #derived class as it is inheriting the features of animal class \n",
        "  def __init__(self):\n",
        "    Animal.__init__(self)     #creating an instance of animal class when i am creating an instance of dog class\n",
        "    print(\"Dog created\")\n",
        "\n",
        "  def who_am_i(self):        #we can overwrite and object we want ..if not then we can also call from the previously created by using method name\n",
        "    print(\"I am a dog\")\n"
      ]
    },
    {
      "cell_type": "code",
      "execution_count": null,
      "metadata": {
        "id": "c0904tnzzqzx"
      },
      "outputs": [],
      "source": [
        "mydog = Dog()"
      ]
    },
    {
      "cell_type": "code",
      "execution_count": null,
      "metadata": {
        "id": "_wXByud86gMc"
      },
      "outputs": [],
      "source": [
        "mydog.who_am_i()"
      ]
    },
    {
      "cell_type": "code",
      "execution_count": null,
      "metadata": {
        "id": "Ix2lm7Tf6ngJ"
      },
      "outputs": [],
      "source": [
        "mydog.eat()"
      ]
    },
    {
      "cell_type": "code",
      "execution_count": null,
      "metadata": {
        "id": "HZiv-ml-oUYS"
      },
      "outputs": [],
      "source": [
        "def Fibonacci(n):\n",
        "   \n",
        "    # Check if input is 0 then it will\n",
        "    # print incorrect input\n",
        "    if n < 0:\n",
        "        print(\"Incorrect input\")\n",
        " \n",
        "    # Check if n is 0\n",
        "    # then it will return 0\n",
        "    elif n == 0:\n",
        "        return 0\n",
        " \n",
        "    # Check if n is 1,2\n",
        "    # it will return 1\n",
        "    elif n == 1 or n == 2:\n",
        "        return 1\n",
        " \n",
        "    else:\n",
        "        return Fibonacci(n-1) + Fibonacci(n-2)\n",
        " \n",
        "# Driver Program\n",
        "print(Fibonacci(9))\n",
        " "
      ]
    },
    {
      "cell_type": "code",
      "execution_count": null,
      "metadata": {
        "id": "zPV3ptYEvbln"
      },
      "outputs": [],
      "source": [
        "print([1,2,3])"
      ]
    },
    {
      "cell_type": "code",
      "execution_count": null,
      "metadata": {
        "id": "_ZrIlsh60Br_"
      },
      "outputs": [],
      "source": [
        "#display\n",
        "\n",
        "def display(row1,row2,row3):\n",
        "  print(row1)\n",
        "  print(row2)\n",
        "  print(row3)\n",
        "  \n",
        "    "
      ]
    },
    {
      "cell_type": "code",
      "execution_count": null,
      "metadata": {
        "colab": {
          "base_uri": "https://localhost:8080/"
        },
        "id": "NcsPy_Dy3ymP",
        "outputId": "fdde4d8b-453e-4c7e-b9c3-ba9eaf87ec04"
      },
      "outputs": [
        {
          "name": "stdout",
          "output_type": "stream",
          "text": [
            "[0, 0, 0]\n",
            "[' ', 'x', ' ']\n",
            "[' ', ' ', 'x']\n"
          ]
        }
      ],
      "source": [
        "example1 = [0,0,0]\n",
        "example2 = [' ' , 'x' , ' ']\n",
        "example3 = [' ' , ' ' , 'x']\n",
        "\n",
        "display(example1,example2,example3)"
      ]
    },
    {
      "cell_type": "code",
      "execution_count": null,
      "metadata": {
        "colab": {
          "base_uri": "https://localhost:8080/"
        },
        "id": "CDIWSoE55EdK",
        "outputId": "ee1554ac-a31d-4215-841d-fb7ed349efce"
      },
      "outputs": [
        {
          "name": "stdout",
          "output_type": "stream",
          "text": [
            "['2', 0, 0]\n",
            "[' ', 'x', ' ']\n",
            "[' ', ' ', 'x']\n"
          ]
        }
      ],
      "source": [
        "example1[0] = '2'\n",
        "display(example1,example2,example3)\n"
      ]
    },
    {
      "cell_type": "code",
      "execution_count": null,
      "metadata": {
        "id": "qrYooHptuSTP"
      },
      "outputs": [],
      "source": [
        "#validating user input\n",
        "\n",
        "def user_choice():\n",
        "  choice  = 'PARUL'     #PARUL IS NOT A DIGIT SO WHILE WILL RUN\n",
        "\n",
        "  while choice.isdigit() == False:     #check if value/datatype is true or false\n",
        "      choice = input(\"Enter a number from 0-10 : \")\n",
        " \n",
        "\n",
        "  return int(choice)         #if casting is not done....ouput will be string\n",
        "  "
      ]
    },
    {
      "cell_type": "code",
      "execution_count": null,
      "metadata": {
        "colab": {
          "base_uri": "https://localhost:8080/"
        },
        "id": "qGduwhJipdcL",
        "outputId": "10b1cc9b-912a-454e-892a-50944c854d7e"
      },
      "outputs": [
        {
          "name": "stdout",
          "output_type": "stream",
          "text": [
            "Enter a number from 0-10 : 5\n"
          ]
        },
        {
          "data": {
            "text/plain": [
              "5"
            ]
          },
          "execution_count": 19,
          "metadata": {},
          "output_type": "execute_result"
        }
      ],
      "source": [
        "user_choice()"
      ]
    },
    {
      "cell_type": "code",
      "execution_count": null,
      "metadata": {
        "colab": {
          "base_uri": "https://localhost:8080/"
        },
        "id": "Er0iDE2oyjR7",
        "outputId": "ec6b3eda-33c4-43e5-cfa5-761a3eb22ccc"
      },
      "outputs": [
        {
          "name": "stdout",
          "output_type": "stream",
          "text": [
            "Enter value : 2\n"
          ]
        },
        {
          "data": {
            "text/plain": [
              "True"
            ]
          },
          "execution_count": 24,
          "metadata": {},
          "output_type": "execute_result"
        }
      ],
      "source": [
        "#SHORT TRICK TO CHECK ID RESULT IS CORRECT\n",
        "result = int(input('Enter value : '))\n",
        "acceptable_value = [0,1,2,3]\n",
        "\n",
        "result in acceptable_value"
      ]
    },
    {
      "cell_type": "code",
      "execution_count": null,
      "metadata": {
        "id": "Of8PGa60_iSv"
      },
      "outputs": [],
      "source": [
        "def my_choice():\n",
        "  choice  = 'PARUL' \n",
        "  acceptable = range(0,10)\n",
        "  within_range = False\n",
        "      \n",
        "  while choice.isdigit() == False or within_range == False :     #check if value/datatype is true or false\n",
        "      choice = input(\"Enter a number from 0-10 : \")\n",
        "\n",
        "      if choice.isdigit() == False:\n",
        "          print('Sorry that is not a digit')\n",
        "         \n",
        "      if choice.isdigit() == True:\n",
        "            if int(choice) in acceptable:\n",
        "               within_range = True\n",
        "               print('you are going correct')\n",
        "            else:\n",
        "                within_range = False\n",
        "         \n",
        "\n",
        "  return int(choice)      "
      ]
    },
    {
      "cell_type": "code",
      "execution_count": null,
      "metadata": {
        "colab": {
          "base_uri": "https://localhost:8080/"
        },
        "id": "EQxOuokVTPTn",
        "outputId": "03752aaa-6069-42a6-ae6b-3736678b81b1"
      },
      "outputs": [
        {
          "name": "stdout",
          "output_type": "stream",
          "text": [
            "Enter a number from 0-10 : hgh\n",
            "Sorry that is not a digit\n",
            "Enter a number from 0-10 : 52\n",
            "Enter a number from 0-10 : 5\n",
            "yo are going correct\n"
          ]
        },
        {
          "data": {
            "text/plain": [
              "5"
            ]
          },
          "execution_count": 9,
          "metadata": {},
          "output_type": "execute_result"
        }
      ],
      "source": [
        "my_choice()"
      ]
    },
    {
      "cell_type": "code",
      "execution_count": null,
      "metadata": {
        "colab": {
          "base_uri": "https://localhost:8080/"
        },
        "id": "Jq0UtwQmqu7R",
        "outputId": "2ad6c8ee-ac50-4b5a-a9ef-2bf51d76ef43"
      },
      "outputs": [
        {
          "name": "stdout",
          "output_type": "stream",
          "text": [
            "Enter your Age 5\n",
            "Input is an integer number. Number =  5\n"
          ]
        }
      ],
      "source": [
        "#checking if the input is correct datatype\n",
        "\n",
        "def check_user_input(input):\n",
        "    try:\n",
        "        # Convert it into integer\n",
        "        val = int(input)\n",
        "        print(\"Input is an integer number. Number = \", val)\n",
        "    except ValueError:\n",
        "        try:\n",
        "            # Convert it into float\n",
        "            val = float(input)\n",
        "            print(\"Input is a float  number. Number = \", val)\n",
        "        except ValueError:\n",
        "            print(\"No.. input is not a number. It's a string\")\n",
        "\n",
        "\n",
        "input1 = input(\"Enter your Age \")\n",
        "check_user_input(input1)\n",
        "\n",
        "input2 = input(\"Enter any number \")\n",
        "check_user_input(input2)\n",
        "\n",
        "input2 = input(\"Enter the last number \")\n",
        "check_user_input(input2)"
      ]
    },
    {
      "cell_type": "markdown",
      "metadata": {
        "id": "GXCUkf-eryUP"
      },
      "source": [
        "**MILESTONE PROJECT BASICS**"
      ]
    },
    {
      "cell_type": "code",
      "execution_count": null,
      "metadata": {
        "id": "RaIWLU7GtuhY"
      },
      "outputs": [],
      "source": [
        "\n",
        "game_list = [0,1,2]\n",
        "def display_list(game_list):\n",
        "  print(\"This is the list : \")\n",
        "  print(game_list)\n",
        "\n",
        "\n",
        "def position_choice():\n",
        "  choice = 'Wrong'\n",
        "\n",
        "  while choice not in ['0','1','2']:\n",
        "     \n",
        "      choice = input(\"Choose a number from (0,1,2) : \")\n",
        "      if choice not in ['0','1','2']:\n",
        "          print(\"Sorry, choice is invalid \")\n",
        "      else:\n",
        "          print(\"Your choice is : \")\n",
        "        \n",
        " \n",
        "  return int(choice)\n",
        "\n",
        "def replacement_choice(game_list , position):\n",
        "  user_placement = input(\"Enter a string to be placed at position : \")\n",
        "  game_list[position] = user_placement\n",
        "\n",
        "  return (game_list)\n",
        "\n",
        "def gameon_choice():\n",
        "   choice = 'Wrong'\n",
        "\n",
        "   while choice not in ['Y' , 'N']:\n",
        "     \n",
        "      choice = input(\"keep playing ?  ('Y' , 'N') : \")\n",
        "      if choice not in ['Y' , 'N']:\n",
        "          print(\"Sorry, I dont understand .Choose either Y or N : \")\n",
        "      if choice == 'Y':\n",
        "        return True\n",
        "         \n",
        "      else:\n",
        "          False\n",
        "           "
      ]
    },
    {
      "cell_type": "code",
      "execution_count": null,
      "metadata": {
        "colab": {
          "base_uri": "https://localhost:8080/"
        },
        "id": "KNX7EsNfsQ-Q",
        "outputId": "01cd2577-7b1a-49b5-dd67-1e2b686e78af"
      },
      "outputs": [
        {
          "name": "stdout",
          "output_type": "stream",
          "text": [
            "Choose a number from (0,1,2) : 2\n",
            "Your choice is : \n"
          ]
        },
        {
          "data": {
            "text/plain": [
              "2"
            ]
          },
          "execution_count": 16,
          "metadata": {},
          "output_type": "execute_result"
        }
      ],
      "source": [
        "position_choice()"
      ]
    },
    {
      "cell_type": "code",
      "execution_count": null,
      "metadata": {
        "colab": {
          "base_uri": "https://localhost:8080/"
        },
        "id": "f-Hhmc18Awyt",
        "outputId": "2df15733-604a-4199-a6c7-dfc7468dcd21"
      },
      "outputs": [
        {
          "name": "stdout",
          "output_type": "stream",
          "text": [
            "Enter a string to be placed at position : 5\n"
          ]
        },
        {
          "data": {
            "text/plain": [
              "[0, '5', 2]"
            ]
          },
          "execution_count": 22,
          "metadata": {},
          "output_type": "execute_result"
        }
      ],
      "source": [
        "replacement_choice(game_list , 1)"
      ]
    },
    {
      "cell_type": "code",
      "execution_count": null,
      "metadata": {
        "colab": {
          "base_uri": "https://localhost:8080/"
        },
        "id": "smhFmn46DMTX",
        "outputId": "5811d4af-705d-42ee-e933-a01a7c1780c1"
      },
      "outputs": [
        {
          "name": "stdout",
          "output_type": "stream",
          "text": [
            "keep playing ?  ('Y' , 'N') : hj\n",
            "Sorry, I dont understand .Choose either Y or N : \n",
            "Thank you for playing \n",
            "keep playing ?  ('Y' , 'N') : Y\n"
          ]
        },
        {
          "data": {
            "text/plain": [
              "True"
            ]
          },
          "execution_count": 28,
          "metadata": {},
          "output_type": "execute_result"
        }
      ],
      "source": [
        "gameon_choice()"
      ]
    },
    {
      "cell_type": "code",
      "execution_count": null,
      "metadata": {
        "colab": {
          "base_uri": "https://localhost:8080/"
        },
        "id": "WrsNc0DOQvFC",
        "outputId": "f8f9faeb-e7dd-4434-f2cd-cac6f7db497c"
      },
      "outputs": [
        {
          "name": "stdout",
          "output_type": "stream",
          "text": [
            "This is the list : \n",
            "[0, 1, 2]\n",
            "Choose a number from (0,1,2) : 1\n",
            "Your choice is : \n",
            "Enter a string to be placed at position : mystring\n",
            "This is the list : \n",
            "[0, 'mystring', 2]\n",
            "keep playing ?  ('Y' , 'N') : Y\n",
            "This is the list : \n",
            "[0, 'mystring', 2]\n",
            "Choose a number from (0,1,2) : 0\n",
            "Your choice is : \n",
            "Enter a string to be placed at position : this is\n",
            "This is the list : \n",
            "['this is', 'mystring', 2]\n",
            "keep playing ?  ('Y' , 'N') : N\n"
          ]
        }
      ],
      "source": [
        "game_on = True\n",
        "game_list = [0,1,2]\n",
        "while game_on:\n",
        "   display_list(game_list)\n",
        "   position = position_choice()\n",
        "   game_list = replacement_choice(game_list , position)\n",
        "   display_list(game_list)\n",
        "   game_on = gameon_choice()\n",
        "   \n",
        "   "
      ]
    },
    {
      "cell_type": "markdown",
      "metadata": {
        "id": "ytdiRncAwDkE"
      },
      "source": [
        "**TIC TAC TOE BOARD GAME**"
      ]
    },
    {
      "cell_type": "code",
      "execution_count": null,
      "metadata": {
        "colab": {
          "base_uri": "https://localhost:8080/"
        },
        "id": "4fQ6zB01v1eO",
        "outputId": "35bed0b1-0442-452a-a200-05bb2c895e30"
      },
      "outputs": [
        {
          "output_type": "stream",
          "name": "stdout",
          "text": [
            "1|2|3\n",
            "4|5|6\n",
            "7|8|9\n"
          ]
        }
      ],
      "source": [
        "from IPython.display import clear_output\n",
        "def display_board(board):\n",
        "  clear_output()\n",
        "  print(board[1]+'|'+board[2]+'|'+board[3])\n",
        "  print(board[4]+'|'+board[5]+'|'+board[6])\n",
        "  print(board[7]+'|'+board[8]+'|'+board[9])\n",
        "  \n",
        "my_board = ['#','1','2','3','4','5','6','7','8','9']\n",
        "display_board(my_board)\n",
        "\n",
        "\n",
        "  "
      ]
    },
    {
      "cell_type": "code",
      "execution_count": null,
      "metadata": {
        "colab": {
          "base_uri": "https://localhost:8080/"
        },
        "id": "FGUDPj52F5B_",
        "outputId": "ca5dd569-f844-4980-f93e-c0798f8c81e1"
      },
      "outputs": [
        {
          "name": "stdout",
          "output_type": "stream",
          "text": [
            " | | \n",
            " | | \n",
            " | | \n"
          ]
        }
      ],
      "source": [
        "def display_board2(board):\n",
        "  \n",
        "  print(board[1]+'|'+board[2]+'|'+board[3])\n",
        "  print(board[4]+'|'+board[5]+'|'+board[6])\n",
        "  print(board[7]+'|'+board[8]+'|'+board[9])\n",
        "  \n",
        "my_board = [' ']*10\n",
        "display_board2(my_board)\n"
      ]
    },
    {
      "cell_type": "code",
      "execution_count": null,
      "metadata": {
        "id": "KEDpAGkqzq4L"
      },
      "outputs": [],
      "source": [
        "def player_input():\n",
        "  marker= ' '\n",
        "  while marker not in ['X','O']:\n",
        "      marker  = input('Player 1 Choose X  or O : ').upper()\n",
        "      \n",
        "      \n",
        "      player_1 = marker\n",
        "      if player_1 == 'X':\n",
        "        player_2 = 'O'\n",
        "      else:\n",
        "        player_2 = 'X'\n",
        "  return (\"player_1 is : \" +player_1 , \"player_2 is : \" + player_2)\n",
        "\n"
      ]
    },
    {
      "cell_type": "code",
      "execution_count": null,
      "metadata": {
        "colab": {
          "base_uri": "https://localhost:8080/"
        },
        "id": "7vN0kazVHQYk",
        "outputId": "791b26e0-1af1-4159-cf97-46ea4b0b4bf9"
      },
      "outputs": [
        {
          "name": "stdout",
          "output_type": "stream",
          "text": [
            "Player 1 Choose X  or O : X\n"
          ]
        }
      ],
      "source": [
        "player_1_marker , player_2_marker = player_input()"
      ]
    },
    {
      "cell_type": "code",
      "execution_count": null,
      "metadata": {
        "colab": {
          "base_uri": "https://localhost:8080/",
          "height": 36
        },
        "id": "OhhXU49RHb31",
        "outputId": "46d34fa9-b120-4fc2-bfb2-0761b1048feb"
      },
      "outputs": [
        {
          "output_type": "execute_result",
          "data": {
            "text/plain": [
              "'player_2 is : O'"
            ],
            "application/vnd.google.colaboratory.intrinsic+json": {
              "type": "string"
            }
          },
          "metadata": {},
          "execution_count": 8
        }
      ],
      "source": [
        "player_2_marker"
      ]
    },
    {
      "cell_type": "code",
      "execution_count": null,
      "metadata": {
        "colab": {
          "base_uri": "https://localhost:8080/"
        },
        "id": "i7_snVSx6xVA",
        "outputId": "6cee78c0-0e8d-40f0-e752-6b350aa9d9f7"
      },
      "outputs": [
        {
          "name": "stdout",
          "output_type": "stream",
          "text": [
            "Player 1 Choose X  or O : X\n"
          ]
        },
        {
          "output_type": "execute_result",
          "data": {
            "text/plain": [
              "('player_1 is : X', 'player_2 is : O')"
            ]
          },
          "metadata": {},
          "execution_count": 9
        }
      ],
      "source": [
        "player_input()"
      ]
    },
    {
      "cell_type": "code",
      "execution_count": null,
      "metadata": {
        "id": "H3AwMp_gLhqA"
      },
      "outputs": [],
      "source": [
        "def place_marker(board , marker , position):\n",
        "  board[position] = marker\n",
        "  \n",
        "  "
      ]
    },
    {
      "cell_type": "code",
      "execution_count": null,
      "metadata": {
        "colab": {
          "base_uri": "https://localhost:8080/"
        },
        "id": "SJJ4laPUO1aq",
        "outputId": "65dac3ac-6d2c-4be0-d796-a6cf6a73c2c4"
      },
      "outputs": [
        {
          "name": "stdout",
          "output_type": "stream",
          "text": [
            " | | \n",
            " | | \n",
            " | | \n"
          ]
        }
      ],
      "source": [
        "choose_position(my_board,' ', 9)\n",
        "display_board(my_board)"
      ]
    },
    {
      "cell_type": "code",
      "execution_count": null,
      "metadata": {
        "id": "Tnb0QRkBRLSL"
      },
      "outputs": [],
      "source": [
        "\n",
        "def win_check(board , mark):\n",
        "   # check all rows and all columns' having same marker\n",
        "   # check diagonals \n",
        "\n",
        "   return((board[1] == mark and board[2] == mark and board[3] == mark) or\n",
        "   (board[4] == board[5] == board[6] == mark) or\n",
        "   (board[7] == board[8] == board[9] == mark) or\n",
        "   (board[1] == board[4] == board[7] == mark) or\n",
        "   (board[2] == board[5] == board[8] == mark) or\n",
        "   (board[3] == board[6] == board[9] == mark) or\n",
        "   (board[1] == board[5] == board[9] == mark) or\n",
        "   (board[3] == board[5] == board[7] == mark))\n",
        "   \n"
      ]
    },
    {
      "cell_type": "code",
      "execution_count": null,
      "metadata": {
        "colab": {
          "base_uri": "https://localhost:8080/"
        },
        "id": "_CP6cBvtf2R0",
        "outputId": "031830ae-e500-486e-8f26-4bc8ce087662"
      },
      "outputs": [
        {
          "name": "stdout",
          "output_type": "stream",
          "text": [
            "1|2|3\n",
            "4|5|6\n",
            "7|8|9\n"
          ]
        },
        {
          "data": {
            "text/plain": [
              "False"
            ]
          },
          "execution_count": 5,
          "metadata": {},
          "output_type": "execute_result"
        }
      ],
      "source": [
        "display_board(my_board)\n",
        "win_check(my_board , ' ')"
      ]
    },
    {
      "cell_type": "code",
      "execution_count": null,
      "metadata": {
        "id": "33BsHtOy2Icy"
      },
      "outputs": [],
      "source": [
        "'''function that uses random module to randomly decide which player goes first.\n",
        " You want to lookup random.randint() Return a string which player went first.'''\n",
        "import random\n",
        "def choose_first():\n",
        "   flip = random.randint(0,1)  #returns a random int from range\n",
        "   if flip == 0:\n",
        "     return 'Player 2'\n",
        "   else:\n",
        "     return 'Player 1'\n",
        "\n",
        "\n",
        "\n"
      ]
    },
    {
      "cell_type": "code",
      "execution_count": null,
      "metadata": {
        "id": "wWY1A4MmM7XY"
      },
      "outputs": [],
      "source": [
        "def space_check(board,position):\n",
        "  return board[position] == ' '"
      ]
    },
    {
      "cell_type": "code",
      "execution_count": null,
      "metadata": {
        "id": "e7hVsfa1NDLj"
      },
      "outputs": [],
      "source": [
        "def full_board_check(board):\n",
        "   for i in range(1,10):\n",
        "     if space_check(board , i):\n",
        "       return False\n",
        "   return True"
      ]
    },
    {
      "cell_type": "code",
      "execution_count": null,
      "metadata": {
        "id": "mmAytYbo8xQL"
      },
      "outputs": [],
      "source": [
        "def player_choice(board):\n",
        "   \n",
        "   position = 0\n",
        "   while position not in [1,2,3,4,5,6,7,8,9] or not space_check(board,position):\n",
        "     position = input(\"Choose a position from (1-9) : \")\n",
        "\n",
        "   return int(position)"
      ]
    },
    {
      "cell_type": "code",
      "execution_count": null,
      "metadata": {
        "id": "8eqqpCOP9awn"
      },
      "outputs": [],
      "source": [
        "def replay():\n",
        "  choice = input(\"Play again? Enter Yes or No : \")\n",
        "\n",
        "  return choice == 'Yes'"
      ]
    },
    {
      "cell_type": "code",
      "execution_count": null,
      "metadata": {
        "colab": {
          "base_uri": "https://localhost:8080/"
        },
        "id": "O1SkOyS1_Y-f",
        "outputId": "538c2d06-a923-49b0-fb7a-4153d51f5a3a"
      },
      "outputs": [
        {
          "metadata": {
            "tags": null
          },
          "name": "stdout",
          "output_type": "stream",
          "text": [
            " | | \n",
            " | | \n",
            " | | \n"
          ]
        }
      ],
      "source": [
        "print(\"Welcome to tic tac toe\")\n",
        "\n",
        "while True:\n",
        "  the_board = [' ']*10\n",
        "  player_1_marker,player_2_marker = player_input()\n",
        "  turn = choose_first()\n",
        "  print(turn + \" will go first\")\n",
        "  \n",
        "  play_game = input(\"Are you ready to play? Enter yes or no\")\n",
        "  game_on = True\n",
        "  if play_game[0] == 'y':\n",
        "      game_on == True\n",
        "  else:\n",
        "      game_on == False\n",
        "\n",
        "  \n",
        "  while game_on:\n",
        "    #player1 turn\n",
        "   if turn == 'Player 1':\n",
        "      display_board(the_board)\n",
        "      position = player_choice(the_board)\n",
        "\n",
        "      place_marker(the_board,player_1_marker,position)\n",
        "      \n",
        "      if win_check(the_board , player_1_marker):\n",
        "        display_board(the_board)\n",
        "        print(\"Player 1 has won\")\n",
        "        game_on = False\n",
        "\n",
        "      else:\n",
        "                if full_board_check(the_board):\n",
        "                    display_board(the_board)\n",
        "                    print('The game is a draw!')\n",
        "                    break\n",
        "                else:\n",
        "                    turn = 'Player 2'\n",
        "\n",
        "        else:\n",
        "            # Player2's turn.\n",
        "            \n",
        "            display_board(the_board)\n",
        "            position = player_choice(the_board)\n",
        "            place_marker(the_board, player_2_marker, position)\n",
        "\n",
        "            if win_check(the_board, player_2_marker):\n",
        "                display_board(the_board)\n",
        "                print('Player 2 has won!')\n",
        "                game_on = False\n",
        "            else:\n",
        "                if full_board_check(the_board):\n",
        "                    display_board(the_board)\n",
        "                    print('The game is a draw!')\n",
        "                    break\n",
        "                else:\n",
        "                    turn = 'Player 1'\n",
        "\n",
        "    if not replay():\n",
        "        break\n",
        "      \n",
        "  \n"
      ]
    },
    {
      "cell_type": "code",
      "source": [],
      "metadata": {
        "id": "X2XsEhUQOkrB"
      },
      "execution_count": null,
      "outputs": []
    },
    {
      "cell_type": "code",
      "source": [],
      "metadata": {
        "id": "kHrwVruiOlGf"
      },
      "execution_count": null,
      "outputs": []
    },
    {
      "cell_type": "markdown",
      "source": [
        "**reverse intezer**"
      ],
      "metadata": {
        "id": "hFVWCGXVVoe2"
      }
    },
    {
      "cell_type": "code",
      "source": [
        "#reverse a number\n",
        "n = int(input(\"Enter a number : \"))\n",
        "sum = 0\n",
        "\n",
        "  \n",
        "while (n != 0) :\n",
        "      rem = n % 10\n",
        "      sum = (sum * 10) + rem\n",
        "      n = n // 10\n",
        "\n",
        "print(\"The reverse number is : {}\".format(sum))"
      ],
      "metadata": {
        "colab": {
          "base_uri": "https://localhost:8080/"
        },
        "id": "fwrztSeOXY-v",
        "outputId": "ca6951c4-ff4b-4c19-a39b-25ae5e0c4cad"
      },
      "execution_count": null,
      "outputs": [
        {
          "output_type": "stream",
          "name": "stdout",
          "text": [
            "Enter a number : 232\n",
            "The reverse number is : 232\n"
          ]
        }
      ]
    },
    {
      "cell_type": "markdown",
      "source": [
        "**armstrong number**"
      ],
      "metadata": {
        "id": "COdF0dl6VfyN"
      }
    },
    {
      "cell_type": "code",
      "source": [
        "n = int(input(\"Enter a number : \"))\n",
        "armstrong_sum = 0    #initailaise sum to zero\n",
        "#store the value of n into somme temporary variable so that if n becomes zero input value is stored somewhere\n",
        "temp = n  \n",
        "\n",
        "#count the len of input by concatenating into string\n",
        "order = len(str(temp))\n",
        "while (temp > 0):\n",
        "  rem = temp % 10\n",
        "  armstrong_sum = armstrong_sum  + rem**order\n",
        "\n",
        "  temp = temp // 10\n",
        "\n",
        "if (armstrong_sum == n) :\n",
        "  print(\"It's an armstrong number\")\n",
        "else:\n",
        "   print(\"It's not an armstrong number\")\n",
        "\n"
      ],
      "metadata": {
        "colab": {
          "base_uri": "https://localhost:8080/"
        },
        "id": "ifxc8IsoelfA",
        "outputId": "af42dcad-6d4b-4af9-e8b8-466c6c79255e"
      },
      "execution_count": null,
      "outputs": [
        {
          "output_type": "stream",
          "name": "stdout",
          "text": [
            "Enter a number : 1634\n",
            "It's an armstrong number\n"
          ]
        }
      ]
    },
    {
      "cell_type": "code",
      "source": [
        "n=5\n",
        "\n",
        "for i in range(n):   #rows\n",
        "   for j in range(n):    #columns\n",
        "       print(\" *\",end=' ')      #if end='' is removed then all the columns will print in first column only\n",
        "   print()   #change rows after exceuting column j for n times"
      ],
      "metadata": {
        "colab": {
          "base_uri": "https://localhost:8080/"
        },
        "id": "-ilF2Yw1YD0v",
        "outputId": "f859a977-8519-4fb3-dcb3-dd76595529b2"
      },
      "execution_count": null,
      "outputs": [
        {
          "output_type": "stream",
          "name": "stdout",
          "text": [
            " *  *  *  *  * \n",
            " *  *  *  *  * \n",
            " *  *  *  *  * \n",
            " *  *  *  *  * \n",
            " *  *  *  *  * \n"
          ]
        }
      ]
    },
    {
      "cell_type": "markdown",
      "source": [
        "**tRIANGLE**"
      ],
      "metadata": {
        "id": "njWLsw9QYTHm"
      }
    },
    {
      "cell_type": "code",
      "source": [
        "n=5\n",
        "\n",
        "for i in range(n):   #rows\n",
        "   for j in range(i+1):    #columns\n",
        "       print(\" *\",end=' ')      #if end='' is removed then all the columns will print in first column only\n",
        "   print()   #change rows after exceuting column j for n times"
      ],
      "metadata": {
        "colab": {
          "base_uri": "https://localhost:8080/"
        },
        "id": "P3jBdlWWak24",
        "outputId": "39a6354f-34d5-409d-f3e5-2fba37a965a3"
      },
      "execution_count": null,
      "outputs": [
        {
          "output_type": "stream",
          "name": "stdout",
          "text": [
            " * \n",
            " *  * \n",
            " *  *  * \n",
            " *  *  *  * \n",
            " *  *  *  *  * \n"
          ]
        }
      ]
    },
    {
      "cell_type": "code",
      "source": [
        "#INVERTED TRIANGLE\n",
        "n=5\n",
        "\n",
        "for i in range(n):   #rows\n",
        "   for j in range(i,n):    #columns  range from i to n \n",
        "       print(\" *\",end=' ')      #if end='' is removed then all the columns will print in first column only\n",
        "   print()   #change rows after exceuting column j for n times\n",
        "\n"
      ],
      "metadata": {
        "colab": {
          "base_uri": "https://localhost:8080/"
        },
        "id": "odeiYM5-eW30",
        "outputId": "e3d073c6-fae4-454c-a631-9586149fb570"
      },
      "execution_count": null,
      "outputs": [
        {
          "output_type": "stream",
          "name": "stdout",
          "text": [
            " *  *  *  *  * \n",
            " *  *  *  * \n",
            " *  *  * \n",
            " *  * \n",
            " * \n"
          ]
        }
      ]
    },
    {
      "cell_type": "code",
      "source": [
        "n=5\n",
        "\n",
        "for i in range(n):   #rows\n",
        "   for j in range(i,n):    #columns\n",
        "       print(\" \",end='')      #if end='' is removed then all the columns will print in first column only\n",
        "\n",
        "   for j in range(i+1):\n",
        "       print(\"*\",end='')\n",
        "   print()   #change rows after exceuting column j for n times"
      ],
      "metadata": {
        "colab": {
          "base_uri": "https://localhost:8080/"
        },
        "id": "QtnhknMmZUVa",
        "outputId": "21e71724-27ee-48db-e844-eee02b1210c9"
      },
      "execution_count": null,
      "outputs": [
        {
          "output_type": "stream",
          "name": "stdout",
          "text": [
            "     *\n",
            "    **\n",
            "   ***\n",
            "  ****\n",
            " *****\n"
          ]
        }
      ]
    },
    {
      "cell_type": "code",
      "source": [
        "n=5\n",
        "\n",
        "for i in range(n):\n",
        "   for j in range(i+1):\n",
        "       print(\" \",end='')\n",
        "   for j in range(i,n):\n",
        "       print(\"*\",end='')\n",
        "\n",
        "   print()"
      ],
      "metadata": {
        "colab": {
          "base_uri": "https://localhost:8080/"
        },
        "id": "H5ArxLN2clBq",
        "outputId": "a5cd1ca1-ce9f-4319-99b0-94454df61722"
      },
      "execution_count": null,
      "outputs": [
        {
          "output_type": "stream",
          "name": "stdout",
          "text": [
            " *****\n",
            "  ****\n",
            "   ***\n",
            "    **\n",
            "     *\n"
          ]
        }
      ]
    },
    {
      "cell_type": "code",
      "source": [
        "n=5\n",
        "\n",
        "for i in range(n):\n",
        "   for j in range(i,n):\n",
        "       print(\" \",end='')\n",
        "   \n",
        "   for j in range(i+1):\n",
        "       print(\"* \",end='')\n",
        "\n",
        "   print()"
      ],
      "metadata": {
        "colab": {
          "base_uri": "https://localhost:8080/"
        },
        "id": "zVtlgRDLdZ98",
        "outputId": "103e52e8-c7e3-4c75-ac67-976c4073b91c"
      },
      "execution_count": null,
      "outputs": [
        {
          "output_type": "stream",
          "name": "stdout",
          "text": [
            "     * \n",
            "    * * \n",
            "   * * * \n",
            "  * * * * \n",
            " * * * * * \n"
          ]
        }
      ]
    },
    {
      "cell_type": "code",
      "source": [
        "n=5\n",
        "\n",
        "for i in range(n):\n",
        "   for j in range(i,n):\n",
        "       print(\" \",end=' ')\n",
        "   for j in range(i):\n",
        "       print(\"*\",end=' ')\n",
        "   for j in range(i+1):\n",
        "       print(\"*\",end=' ')\n",
        "\n",
        "   print()"
      ],
      "metadata": {
        "colab": {
          "base_uri": "https://localhost:8080/"
        },
        "id": "1exLVq5HkH00",
        "outputId": "4d826b88-bb4d-4b07-bba4-65bd54fb206f"
      },
      "execution_count": null,
      "outputs": [
        {
          "output_type": "stream",
          "name": "stdout",
          "text": [
            "          * \n",
            "        * * * \n",
            "      * * * * * \n",
            "    * * * * * * * \n",
            "  * * * * * * * * * \n"
          ]
        }
      ]
    },
    {
      "cell_type": "code",
      "source": [
        "n=5\n",
        "\n",
        "for i in range(n):\n",
        "   for j in range(i+1):\n",
        "       print(\" \",end=' ')\n",
        "   for j in range(i,n-1):\n",
        "       print(\"*\",end=' ')\n",
        "   for j in range(i,n):\n",
        "       print(\"*\",end=' ')\n",
        "\n",
        "   print()"
      ],
      "metadata": {
        "colab": {
          "base_uri": "https://localhost:8080/"
        },
        "id": "rBU78JkPlvaC",
        "outputId": "53e7e61b-6cc1-4e4c-9bfe-4bc4c6c83312"
      },
      "execution_count": null,
      "outputs": [
        {
          "output_type": "stream",
          "name": "stdout",
          "text": [
            "  * * * * * * * * * \n",
            "    * * * * * * * \n",
            "      * * * * * \n",
            "        * * * \n",
            "          * \n"
          ]
        }
      ]
    },
    {
      "cell_type": "code",
      "source": [
        "n=5\n",
        "\n",
        "for i in range(n-1):\n",
        "   for j in range(i,n):\n",
        "       print(\" \",end=' ')\n",
        "   for j in range(i):\n",
        "       print(\"*\",end=' ')\n",
        "   for j in range(i+1):\n",
        "       print(\"*\",end=' ')\n",
        "\n",
        "   print()\n",
        "\n",
        "for i in range(n):\n",
        "   for j in range(i+1):\n",
        "       print(\" \",end=' ')\n",
        "   for j in range(i,n-1):\n",
        "       print(\"*\",end=' ')\n",
        "   for j in range(i,n):\n",
        "       print(\"*\",end=' ')\n",
        "\n",
        "   print()"
      ],
      "metadata": {
        "colab": {
          "base_uri": "https://localhost:8080/"
        },
        "id": "cyLFpDFBmPkl",
        "outputId": "f79f5ac4-073f-4db0-d06e-ad22b84bc687"
      },
      "execution_count": null,
      "outputs": [
        {
          "output_type": "stream",
          "name": "stdout",
          "text": [
            "          * \n",
            "        * * * \n",
            "      * * * * * \n",
            "    * * * * * * * \n",
            "  * * * * * * * * * \n",
            "    * * * * * * * \n",
            "      * * * * * \n",
            "        * * * \n",
            "          * \n"
          ]
        }
      ]
    },
    {
      "cell_type": "code",
      "source": [],
      "metadata": {
        "id": "g-7uGrEkckEe"
      },
      "execution_count": null,
      "outputs": []
    },
    {
      "cell_type": "markdown",
      "source": [
        "**ERROR AND EXCEPTION HANDELING**"
      ],
      "metadata": {
        "id": "Y-b2s6S4ck4p"
      }
    },
    {
      "cell_type": "code",
      "source": [
        "#try and except method\n",
        "n= 10 \n",
        "n1 = 20\n",
        "try :\n",
        "    result = n+ 'n1'\n",
        "except:\n",
        "     print(\"Something went wrong\")\n",
        "else:\n",
        "  print(\"add done well\")\n",
        "  print(result)\n",
        "\n"
      ],
      "metadata": {
        "colab": {
          "base_uri": "https://localhost:8080/"
        },
        "id": "2Rc0iWK-ctPN",
        "outputId": "be22ba38-7a49-4d7e-f4a3-86d8d1ef22f0"
      },
      "execution_count": null,
      "outputs": [
        {
          "output_type": "stream",
          "name": "stdout",
          "text": [
            "Something went wrong\n"
          ]
        }
      ]
    },
    {
      "cell_type": "code",
      "source": [
        "try:\n",
        "  f = open('testfile','w') #opens a file and allows to write else create a file\n",
        "  f.write(\"Write a test line\")\n",
        "except TypeError:\n",
        "   print(\"there was a type error\")\n",
        "except OSError:\n",
        "  print(\"you have an OS error\")\n",
        "finally:\n",
        "  print(\"i always run\")"
      ],
      "metadata": {
        "colab": {
          "base_uri": "https://localhost:8080/"
        },
        "id": "6sKMEVzwvVs7",
        "outputId": "c762119a-4f0c-4812-e297-1325f38733e3"
      },
      "execution_count": null,
      "outputs": [
        {
          "output_type": "stream",
          "name": "stdout",
          "text": [
            "i always run\n"
          ]
        }
      ]
    },
    {
      "cell_type": "code",
      "source": [
        "def learn_try_except():\n",
        "   while True:\n",
        "      try:\n",
        "        result = int(input(\"Enter number : \"))\n",
        "      except:\n",
        "         print(\"Woops.That is not a number\")\n",
        "         continue    #if try cond not true print and continue to ask again input\n",
        "      else:\n",
        "         print(\"Yes,thanku\")\n",
        "         break  #if try condn true then except will not execute and come to else and break\n",
        "      finally:\n",
        "         print(\"End try/except/finally\")"
      ],
      "metadata": {
        "id": "QmMC3BeMT7M6"
      },
      "execution_count": null,
      "outputs": []
    },
    {
      "cell_type": "code",
      "source": [
        "learn_try_except()"
      ],
      "metadata": {
        "colab": {
          "base_uri": "https://localhost:8080/"
        },
        "id": "2zBUtVqqVCY9",
        "outputId": "af2bef49-976a-4b53-9e8f-657c6d2e3e51"
      },
      "execution_count": null,
      "outputs": [
        {
          "output_type": "stream",
          "name": "stdout",
          "text": [
            "Enter number : kj\n",
            "Woops.That is not a number\n",
            "End try/except/finally\n",
            "Enter number : 5\n",
            "Yes,thanku\n",
            "End try/except/finally\n"
          ]
        }
      ]
    },
    {
      "cell_type": "code",
      "source": [
        "#examples practice\n",
        "try:\n",
        "      for i in ['a','b','c']:\n",
        "          print(i**2)\n",
        "except:\n",
        "      print(\"Something went wrong\")\n"
      ],
      "metadata": {
        "colab": {
          "base_uri": "https://localhost:8080/"
        },
        "id": "KbjC7ksSeWhm",
        "outputId": "8f2493d4-7572-412d-b250-192b8daae9d2"
      },
      "execution_count": null,
      "outputs": [
        {
          "output_type": "stream",
          "name": "stdout",
          "text": [
            "Something went wrong\n"
          ]
        }
      ]
    },
    {
      "cell_type": "code",
      "source": [
        "try:\n",
        "   x = 5\n",
        "   y = 0\n",
        "   z = x/y\n",
        "except:\n",
        "   print(\"ZeroDivison Error will occur\")\n",
        "finally:\n",
        "  print(\"it matters \")"
      ],
      "metadata": {
        "colab": {
          "base_uri": "https://localhost:8080/"
        },
        "id": "ngA626IPfrBM",
        "outputId": "63fa4ed7-1ac7-46c7-81d5-ded10e6810c5"
      },
      "execution_count": null,
      "outputs": [
        {
          "output_type": "stream",
          "name": "stdout",
          "text": [
            "ZeroDivison Error will occur\n",
            "it matters \n"
          ]
        }
      ]
    },
    {
      "cell_type": "code",
      "source": [
        "#Write a function that asks for an integer and prints the square of it. Use a while loop with a try, except, else block to account for incorrect inputs.\n",
        "\n",
        "def ask():\n",
        "   while True:\n",
        "       try:\n",
        "           result = int(input(\"Enter number : \"))\n",
        "       except:\n",
        "          print(\"You are entering wrong input! \\n\")\n",
        "          continue\n",
        "       else:\n",
        "         res = result**2\n",
        "         print(\"Your squared number is : \")\n",
        "         print(res)\n",
        "         break\n",
        "       finally:\n",
        "          print(\"well done\")\n"
      ],
      "metadata": {
        "id": "XJ2-ZOZjgK3W"
      },
      "execution_count": null,
      "outputs": []
    },
    {
      "cell_type": "code",
      "source": [
        "ask()"
      ],
      "metadata": {
        "colab": {
          "base_uri": "https://localhost:8080/"
        },
        "id": "swOa15RsgY67",
        "outputId": "850537d0-650b-402b-b36c-514dd260beb5"
      },
      "execution_count": null,
      "outputs": [
        {
          "output_type": "stream",
          "name": "stdout",
          "text": [
            "Enter number : k\n",
            "You are entering wrong input! \n",
            "\n",
            "well done\n",
            "Enter number : 2\n",
            "Your squared number is : \n",
            "4\n",
            "well done\n"
          ]
        }
      ]
    },
    {
      "cell_type": "code",
      "source": [
        "def cap_text(text):\n",
        "  return text.capitalize()"
      ],
      "metadata": {
        "id": "kh3r-5LDbgCX"
      },
      "execution_count": null,
      "outputs": []
    },
    {
      "cell_type": "code",
      "source": [
        "\n",
        "cap_text('yashi')"
      ],
      "metadata": {
        "colab": {
          "base_uri": "https://localhost:8080/",
          "height": 36
        },
        "id": "KEjX69lgbwfG",
        "outputId": "a2e3f1a9-c518-4203-d426-e3de354e56ca"
      },
      "execution_count": null,
      "outputs": [
        {
          "output_type": "execute_result",
          "data": {
            "text/plain": [
              "'Yashi'"
            ],
            "application/vnd.google.colaboratory.intrinsic+json": {
              "type": "string"
            }
          },
          "metadata": {},
          "execution_count": 7
        }
      ]
    }
  ],
  "metadata": {
    "colab": {
      "collapsed_sections": [],
      "provenance": [],
      "authorship_tag": "ABX9TyO524nYNGcyNxdXjf7tohqp",
      "include_colab_link": true
    },
    "kernelspec": {
      "display_name": "Python 3",
      "name": "python3"
    },
    "language_info": {
      "name": "python"
    }
  },
  "nbformat": 4,
  "nbformat_minor": 0
}